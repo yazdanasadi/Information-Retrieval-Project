{
 "cells": [
  {
   "cell_type": "markdown",
   "metadata": {},
   "source": [
    "## *Information Retrieval Final Project*\n",
    "### Yazdan asadi\n",
    "9517023104"
   ]
  },
  {
   "cell_type": "markdown",
   "metadata": {},
   "source": [
    "Part 1: Building a system to retrieve and indexing the poems\n",
    "#TODO: 1-Indexing(10point) 2-Retrieve and search for queries (15point)\n",
    "       3-Personalize Analyzer(10 point)"
   ]
  },
  {
   "cell_type": "markdown",
   "metadata": {},
   "source": [
    "# Data Cleaning"
   ]
  },
  {
   "cell_type": "code",
   "execution_count": 1,
   "metadata": {},
   "outputs": [],
   "source": [
    "#preprocess and make a csv file to query on it\n",
    "from __future__ import unicode_literals\n",
    "import os,re\n",
    "import nltk\n",
    "import csv\n",
    "import pandas as pd\n",
    "import numpy as np\n",
    "from pathlib import Path\n",
    "path = \"/home/yazdan/Documents/IR Project/PersianPoemsData/Final Poems\""
   ]
  },
  {
   "cell_type": "code",
   "execution_count": 2,
   "metadata": {},
   "outputs": [],
   "source": [
    "from hazm import *"
   ]
  },
  {
   "cell_type": "code",
   "execution_count": 3,
   "metadata": {},
   "outputs": [],
   "source": [
    "def poems_to_csv(path):\n",
    "    p_title = []\n",
    "    p_title2 = []\n",
    "    p_author2 = []\n",
    "    p_body = []\n",
    "    docs_id = 1\n",
    "    file_count = 0\n",
    "    df = pd.read_csv('first.csv',header = None)    \n",
    "    for (dir_path,dir_name,file_names) in os.walk(path):\n",
    "        file_count = len(file_names)\n",
    "        #file = open('first.csv', 'w+', newline ='')\n",
    "        #with file:     \n",
    "            #write = csv.writer(file) \n",
    "            #write.writerows(p_author2)\n",
    "            #write.writerows(p_title)\n",
    "        for the_file in file_names:\n",
    "            p = Path(dir_path).parent\n",
    "            p_author =list(p.parts)[7:]\n",
    "            author = [p_author]\n",
    "            p_author2.append(author)\n",
    "            with open(dir_path + '/' + the_file, 'r',encoding=\"utf-8\") as my_file:\n",
    "                lines = my_file.readlines()\n",
    "                title = str(lines[1])\n",
    "                body = lines[5:-2]\n",
    "                changed_title = title.replace(\"\\section*\",'')\n",
    "                changed_title = changed_title.replace(\"\\n\",'')\n",
    "                p_title.append(changed_title)\n",
    "               \n",
    "                p_body.append(body)\n",
    "                \n",
    "            \n",
    "    return  p_author2, p_title ,p_body"
   ]
  },
  {
   "cell_type": "code",
   "execution_count": 4,
   "metadata": {
    "scrolled": true
   },
   "outputs": [
    {
     "name": "stdout",
     "output_type": "stream",
     "text": [
      "7881\n",
      "7881\n",
      "7881\n"
     ]
    }
   ],
   "source": [
    "p_author2, p_title ,p_body = poems_to_csv(path)\n",
    "print(len(p_author2))\n",
    "print(len(p_title))\n",
    "print(len(p_body))"
   ]
  },
  {
   "cell_type": "code",
   "execution_count": 5,
   "metadata": {},
   "outputs": [],
   "source": [
    "def to_csv(author, title, body):\n",
    "    csv_file = []\n",
    "    for i in range(len(author)):\n",
    "        csv_file.append([author[i][0][0], title[i], body[i]])\n",
    "        #print(author[i])\n",
    "    return csv_file"
   ]
  },
  {
   "cell_type": "code",
   "execution_count": 8,
   "metadata": {},
   "outputs": [],
   "source": [
    "res = [''.join(ele) for ele in p_body] "
   ]
  },
  {
   "cell_type": "code",
   "execution_count": 9,
   "metadata": {},
   "outputs": [],
   "source": [
    "csv_list = to_csv(p_author2, p_title ,res)"
   ]
  },
  {
   "cell_type": "code",
   "execution_count": 10,
   "metadata": {},
   "outputs": [],
   "source": [
    "df = pd.DataFrame(csv_list,columns=['Author Name','Title of Poem','Poem Body'])"
   ]
  },
  {
   "cell_type": "code",
   "execution_count": 11,
   "metadata": {},
   "outputs": [
    {
     "data": {
      "text/html": [
       "<div>\n",
       "<style scoped>\n",
       "    .dataframe tbody tr th:only-of-type {\n",
       "        vertical-align: middle;\n",
       "    }\n",
       "\n",
       "    .dataframe tbody tr th {\n",
       "        vertical-align: top;\n",
       "    }\n",
       "\n",
       "    .dataframe thead th {\n",
       "        text-align: right;\n",
       "    }\n",
       "</style>\n",
       "<table border=\"1\" class=\"dataframe\">\n",
       "  <thead>\n",
       "    <tr style=\"text-align: right;\">\n",
       "      <th></th>\n",
       "      <th>Author Name</th>\n",
       "      <th>Title of Poem</th>\n",
       "      <th>Poem Body</th>\n",
       "    </tr>\n",
       "  </thead>\n",
       "  <tbody>\n",
       "    <tr>\n",
       "      <th>0</th>\n",
       "      <td>khayyam</td>\n",
       "      <td>{رباعی شماره ۱۴۳: قومی متفکرند اندر ره دین}</td>\n",
       "      <td>قومی متفکرند اندر ره دین\\n&amp;&amp;\\nقومی به گمان فتا...</td>\n",
       "    </tr>\n",
       "    <tr>\n",
       "      <th>1</th>\n",
       "      <td>khayyam</td>\n",
       "      <td>{رباعی شماره ۱۵۹: از کوزه‌گری کوزه خریدم باری}</td>\n",
       "      <td>از کوزه‌گری کوزه خریدم باری\\n&amp;&amp;\\nآن کوزه سخن گ...</td>\n",
       "    </tr>\n",
       "    <tr>\n",
       "      <th>2</th>\n",
       "      <td>khayyam</td>\n",
       "      <td>{رباعی شماره ۱۴: این بحر وجود آمده بیرون ز نهفت}</td>\n",
       "      <td>این بحر وجود آمده بیرون ز نهفت\\n&amp;&amp;\\nکس نیست که...</td>\n",
       "    </tr>\n",
       "    <tr>\n",
       "      <th>3</th>\n",
       "      <td>khayyam</td>\n",
       "      <td>{رباعی شماره ۹۴: هم دانه امید به خرمن ماند}</td>\n",
       "      <td>هم دانه امید به خرمن ماند\\n&amp;&amp;\\nهم باغ و سرای ب...</td>\n",
       "    </tr>\n",
       "    <tr>\n",
       "      <th>4</th>\n",
       "      <td>khayyam</td>\n",
       "      <td>{رباعی شماره ۲: چون عهده نمی‌شود کسی فردا را}</td>\n",
       "      <td>چون عهده نمی‌شود کسی فردا را\\n&amp;&amp;\\nحالی خوش دار...</td>\n",
       "    </tr>\n",
       "    <tr>\n",
       "      <th>...</th>\n",
       "      <td>...</td>\n",
       "      <td>...</td>\n",
       "      <td>...</td>\n",
       "    </tr>\n",
       "    <tr>\n",
       "      <th>495</th>\n",
       "      <td>moulavi</td>\n",
       "      <td>{غزل شماره ۱۵۴۲: چنان مستم چنان مستم من این دم}</td>\n",
       "      <td>چنان مستم چنان مستم من این دم\\n&amp;&amp;\\nکه حوا را ب...</td>\n",
       "    </tr>\n",
       "    <tr>\n",
       "      <th>496</th>\n",
       "      <td>moulavi</td>\n",
       "      <td>{غزل شماره ۲۳۲۶: ای بر سر بازاری دستار چنان کرده}</td>\n",
       "      <td>ای بر سر بازاری دستار چنان کرده\\n&amp;&amp;\\nرو با دگر...</td>\n",
       "    </tr>\n",
       "    <tr>\n",
       "      <th>497</th>\n",
       "      <td>moulavi</td>\n",
       "      <td>{غزل شماره ۱۲۵: گفتی که گزیده‌ای تو بر ما}</td>\n",
       "      <td>گفتی که گزیده‌ای تو بر ما\\n&amp;&amp;\\nهرگز نبدست این ...</td>\n",
       "    </tr>\n",
       "    <tr>\n",
       "      <th>498</th>\n",
       "      <td>moulavi</td>\n",
       "      <td>{غزل شماره ۲۵۰: هین که منم بر در در برگشا}</td>\n",
       "      <td>هین که منم بر در در برگشا\\n&amp;&amp;\\nبستن در نیست نش...</td>\n",
       "    </tr>\n",
       "    <tr>\n",
       "      <th>499</th>\n",
       "      <td>moulavi</td>\n",
       "      <td>{غزل شماره ۲۸۸۹: ای که تو چشمه حیوان و بهار چمنی}</td>\n",
       "      <td>ای که تو چشمه حیوان و بهار چمنی\\n&amp;&amp;\\nچو منی تو...</td>\n",
       "    </tr>\n",
       "  </tbody>\n",
       "</table>\n",
       "<p>500 rows × 3 columns</p>\n",
       "</div>"
      ],
      "text/plain": [
       "    Author Name                                      Title of Poem  \\\n",
       "0       khayyam        {رباعی شماره ۱۴۳: قومی متفکرند اندر ره دین}   \n",
       "1       khayyam     {رباعی شماره ۱۵۹: از کوزه‌گری کوزه خریدم باری}   \n",
       "2       khayyam   {رباعی شماره ۱۴: این بحر وجود آمده بیرون ز نهفت}   \n",
       "3       khayyam        {رباعی شماره ۹۴: هم دانه امید به خرمن ماند}   \n",
       "4       khayyam      {رباعی شماره ۲: چون عهده نمی‌شود کسی فردا را}   \n",
       "..          ...                                                ...   \n",
       "495     moulavi    {غزل شماره ۱۵۴۲: چنان مستم چنان مستم من این دم}   \n",
       "496     moulavi  {غزل شماره ۲۳۲۶: ای بر سر بازاری دستار چنان کرده}   \n",
       "497     moulavi         {غزل شماره ۱۲۵: گفتی که گزیده‌ای تو بر ما}   \n",
       "498     moulavi         {غزل شماره ۲۵۰: هین که منم بر در در برگشا}   \n",
       "499     moulavi  {غزل شماره ۲۸۸۹: ای که تو چشمه حیوان و بهار چمنی}   \n",
       "\n",
       "                                             Poem Body  \n",
       "0    قومی متفکرند اندر ره دین\\n&&\\nقومی به گمان فتا...  \n",
       "1    از کوزه‌گری کوزه خریدم باری\\n&&\\nآن کوزه سخن گ...  \n",
       "2    این بحر وجود آمده بیرون ز نهفت\\n&&\\nکس نیست که...  \n",
       "3    هم دانه امید به خرمن ماند\\n&&\\nهم باغ و سرای ب...  \n",
       "4    چون عهده نمی‌شود کسی فردا را\\n&&\\nحالی خوش دار...  \n",
       "..                                                 ...  \n",
       "495  چنان مستم چنان مستم من این دم\\n&&\\nکه حوا را ب...  \n",
       "496  ای بر سر بازاری دستار چنان کرده\\n&&\\nرو با دگر...  \n",
       "497  گفتی که گزیده‌ای تو بر ما\\n&&\\nهرگز نبدست این ...  \n",
       "498  هین که منم بر در در برگشا\\n&&\\nبستن در نیست نش...  \n",
       "499  ای که تو چشمه حیوان و بهار چمنی\\n&&\\nچو منی تو...  \n",
       "\n",
       "[500 rows x 3 columns]"
      ]
     },
     "execution_count": 11,
     "metadata": {},
     "output_type": "execute_result"
    }
   ],
   "source": [
    "df.head(500)"
   ]
  },
  {
   "cell_type": "markdown",
   "metadata": {},
   "source": [
    "# Normalizer"
   ]
  },
  {
   "cell_type": "code",
   "execution_count": 12,
   "metadata": {},
   "outputs": [],
   "source": [
    "norm = Normalizer()"
   ]
  },
  {
   "cell_type": "code",
   "execution_count": 13,
   "metadata": {},
   "outputs": [],
   "source": [
    "df_ii = df"
   ]
  },
  {
   "cell_type": "code",
   "execution_count": 14,
   "metadata": {},
   "outputs": [],
   "source": [
    "df_ii['Nomralized Poem'] = df.apply(lambda row: norm.normalize(row['Poem Body']), axis=1)"
   ]
  },
  {
   "cell_type": "code",
   "execution_count": 15,
   "metadata": {},
   "outputs": [
    {
     "data": {
      "text/html": [
       "<div>\n",
       "<style scoped>\n",
       "    .dataframe tbody tr th:only-of-type {\n",
       "        vertical-align: middle;\n",
       "    }\n",
       "\n",
       "    .dataframe tbody tr th {\n",
       "        vertical-align: top;\n",
       "    }\n",
       "\n",
       "    .dataframe thead th {\n",
       "        text-align: right;\n",
       "    }\n",
       "</style>\n",
       "<table border=\"1\" class=\"dataframe\">\n",
       "  <thead>\n",
       "    <tr style=\"text-align: right;\">\n",
       "      <th></th>\n",
       "      <th>Author Name</th>\n",
       "      <th>Title of Poem</th>\n",
       "      <th>Poem Body</th>\n",
       "      <th>Nomralized Poem</th>\n",
       "    </tr>\n",
       "  </thead>\n",
       "  <tbody>\n",
       "    <tr>\n",
       "      <th>0</th>\n",
       "      <td>khayyam</td>\n",
       "      <td>{رباعی شماره ۱۴۳: قومی متفکرند اندر ره دین}</td>\n",
       "      <td>قومی متفکرند اندر ره دین\\n&amp;&amp;\\nقومی به گمان فتا...</td>\n",
       "      <td>قومی متفکرند اندر ره دین\\n&amp;&amp;\\nقومی به گمان فتا...</td>\n",
       "    </tr>\n",
       "    <tr>\n",
       "      <th>1</th>\n",
       "      <td>khayyam</td>\n",
       "      <td>{رباعی شماره ۱۵۹: از کوزه‌گری کوزه خریدم باری}</td>\n",
       "      <td>از کوزه‌گری کوزه خریدم باری\\n&amp;&amp;\\nآن کوزه سخن گ...</td>\n",
       "      <td>از کوزه‌گری کوزه خریدم باری\\n&amp;&amp;\\nآن کوزه سخن گ...</td>\n",
       "    </tr>\n",
       "    <tr>\n",
       "      <th>2</th>\n",
       "      <td>khayyam</td>\n",
       "      <td>{رباعی شماره ۱۴: این بحر وجود آمده بیرون ز نهفت}</td>\n",
       "      <td>این بحر وجود آمده بیرون ز نهفت\\n&amp;&amp;\\nکس نیست که...</td>\n",
       "      <td>این بحر وجود آمده بیرون ز نهفت\\n&amp;&amp;\\nکس نیست که...</td>\n",
       "    </tr>\n",
       "    <tr>\n",
       "      <th>3</th>\n",
       "      <td>khayyam</td>\n",
       "      <td>{رباعی شماره ۹۴: هم دانه امید به خرمن ماند}</td>\n",
       "      <td>هم دانه امید به خرمن ماند\\n&amp;&amp;\\nهم باغ و سرای ب...</td>\n",
       "      <td>هم دانه امید به خرمن ماند\\n&amp;&amp;\\nهم باغ و سرای ب...</td>\n",
       "    </tr>\n",
       "    <tr>\n",
       "      <th>4</th>\n",
       "      <td>khayyam</td>\n",
       "      <td>{رباعی شماره ۲: چون عهده نمی‌شود کسی فردا را}</td>\n",
       "      <td>چون عهده نمی‌شود کسی فردا را\\n&amp;&amp;\\nحالی خوش دار...</td>\n",
       "      <td>چون عهده نمی‌شود کسی فردا را\\n&amp;&amp;\\nحالی خوش دار...</td>\n",
       "    </tr>\n",
       "    <tr>\n",
       "      <th>...</th>\n",
       "      <td>...</td>\n",
       "      <td>...</td>\n",
       "      <td>...</td>\n",
       "      <td>...</td>\n",
       "    </tr>\n",
       "    <tr>\n",
       "      <th>7876</th>\n",
       "      <td>hafez</td>\n",
       "      <td>{غزل شماره ۱۷۴: مژده ای دل که دگر باد صبا بازآمد}</td>\n",
       "      <td>مژده ای دل که دگر باد صبا بازآمد\\n&amp;&amp;\\nهدهد خوش...</td>\n",
       "      <td>مژده‌ای دل که دگر باد صبا بازآمد\\n&amp;&amp;\\nهدهد خوش...</td>\n",
       "    </tr>\n",
       "    <tr>\n",
       "      <th>7877</th>\n",
       "      <td>hafez</td>\n",
       "      <td>{غزل شماره ۱۲۱: هر آن کو خاطر مجموع و یار نازن...</td>\n",
       "      <td>هر آن کو خاطر مجموع و یار نازنین دارد\\n&amp;&amp;\\nسعا...</td>\n",
       "      <td>هر آن کو خاطر مجموع و یار نازنین دارد\\n&amp;&amp;\\nسعا...</td>\n",
       "    </tr>\n",
       "    <tr>\n",
       "      <th>7878</th>\n",
       "      <td>hafez</td>\n",
       "      <td>{غزل شماره ۴۳۷: ای قصه بهشت ز کویت حکایتی}</td>\n",
       "      <td>ای قصه بهشت ز کویت حکایتی\\n&amp;&amp;\\nشرح جمال حور ز ...</td>\n",
       "      <td>ای قصه بهشت ز کویت حکایتی\\n&amp;&amp;\\nشرح جمال حور ز ...</td>\n",
       "    </tr>\n",
       "    <tr>\n",
       "      <th>7879</th>\n",
       "      <td>hafez</td>\n",
       "      <td>{غزل شماره ۲۷: در دیر مغان آمد یارم قدحی در دست}</td>\n",
       "      <td>در دیر مغان آمد یارم قدحی در دست\\n&amp;&amp;\\nمست از م...</td>\n",
       "      <td>در دیر مغان آمد یارم قدحی در دست\\n&amp;&amp;\\nمست از م...</td>\n",
       "    </tr>\n",
       "    <tr>\n",
       "      <th>7880</th>\n",
       "      <td>hafez</td>\n",
       "      <td>{غزل شماره ۲۴۳: بوی خوش تو هر که ز باد صبا شنید}</td>\n",
       "      <td>بوی خوش تو هر که ز باد صبا شنید\\n&amp;&amp;\\nاز یار آش...</td>\n",
       "      <td>بوی خوش تو هر که ز باد صبا شنید\\n&amp;&amp;\\nاز یار آش...</td>\n",
       "    </tr>\n",
       "  </tbody>\n",
       "</table>\n",
       "<p>7881 rows × 4 columns</p>\n",
       "</div>"
      ],
      "text/plain": [
       "     Author Name                                      Title of Poem  \\\n",
       "0        khayyam        {رباعی شماره ۱۴۳: قومی متفکرند اندر ره دین}   \n",
       "1        khayyam     {رباعی شماره ۱۵۹: از کوزه‌گری کوزه خریدم باری}   \n",
       "2        khayyam   {رباعی شماره ۱۴: این بحر وجود آمده بیرون ز نهفت}   \n",
       "3        khayyam        {رباعی شماره ۹۴: هم دانه امید به خرمن ماند}   \n",
       "4        khayyam      {رباعی شماره ۲: چون عهده نمی‌شود کسی فردا را}   \n",
       "...          ...                                                ...   \n",
       "7876       hafez  {غزل شماره ۱۷۴: مژده ای دل که دگر باد صبا بازآمد}   \n",
       "7877       hafez  {غزل شماره ۱۲۱: هر آن کو خاطر مجموع و یار نازن...   \n",
       "7878       hafez         {غزل شماره ۴۳۷: ای قصه بهشت ز کویت حکایتی}   \n",
       "7879       hafez   {غزل شماره ۲۷: در دیر مغان آمد یارم قدحی در دست}   \n",
       "7880       hafez   {غزل شماره ۲۴۳: بوی خوش تو هر که ز باد صبا شنید}   \n",
       "\n",
       "                                              Poem Body  \\\n",
       "0     قومی متفکرند اندر ره دین\\n&&\\nقومی به گمان فتا...   \n",
       "1     از کوزه‌گری کوزه خریدم باری\\n&&\\nآن کوزه سخن گ...   \n",
       "2     این بحر وجود آمده بیرون ز نهفت\\n&&\\nکس نیست که...   \n",
       "3     هم دانه امید به خرمن ماند\\n&&\\nهم باغ و سرای ب...   \n",
       "4     چون عهده نمی‌شود کسی فردا را\\n&&\\nحالی خوش دار...   \n",
       "...                                                 ...   \n",
       "7876  مژده ای دل که دگر باد صبا بازآمد\\n&&\\nهدهد خوش...   \n",
       "7877  هر آن کو خاطر مجموع و یار نازنین دارد\\n&&\\nسعا...   \n",
       "7878  ای قصه بهشت ز کویت حکایتی\\n&&\\nشرح جمال حور ز ...   \n",
       "7879  در دیر مغان آمد یارم قدحی در دست\\n&&\\nمست از م...   \n",
       "7880  بوی خوش تو هر که ز باد صبا شنید\\n&&\\nاز یار آش...   \n",
       "\n",
       "                                        Nomralized Poem  \n",
       "0     قومی متفکرند اندر ره دین\\n&&\\nقومی به گمان فتا...  \n",
       "1     از کوزه‌گری کوزه خریدم باری\\n&&\\nآن کوزه سخن گ...  \n",
       "2     این بحر وجود آمده بیرون ز نهفت\\n&&\\nکس نیست که...  \n",
       "3     هم دانه امید به خرمن ماند\\n&&\\nهم باغ و سرای ب...  \n",
       "4     چون عهده نمی‌شود کسی فردا را\\n&&\\nحالی خوش دار...  \n",
       "...                                                 ...  \n",
       "7876  مژده‌ای دل که دگر باد صبا بازآمد\\n&&\\nهدهد خوش...  \n",
       "7877  هر آن کو خاطر مجموع و یار نازنین دارد\\n&&\\nسعا...  \n",
       "7878  ای قصه بهشت ز کویت حکایتی\\n&&\\nشرح جمال حور ز ...  \n",
       "7879  در دیر مغان آمد یارم قدحی در دست\\n&&\\nمست از م...  \n",
       "7880  بوی خوش تو هر که ز باد صبا شنید\\n&&\\nاز یار آش...  \n",
       "\n",
       "[7881 rows x 4 columns]"
      ]
     },
     "execution_count": 15,
     "metadata": {},
     "output_type": "execute_result"
    }
   ],
   "source": [
    "df_ii"
   ]
  },
  {
   "cell_type": "markdown",
   "metadata": {},
   "source": [
    "# Tokenizing"
   ]
  },
  {
   "cell_type": "code",
   "execution_count": 16,
   "metadata": {},
   "outputs": [],
   "source": [
    "tokenizer = WordTokenizer()"
   ]
  },
  {
   "cell_type": "code",
   "execution_count": 17,
   "metadata": {},
   "outputs": [],
   "source": [
    "df_ii['Tokenized_Poem'] = df.apply(lambda row: tokenizer.tokenize(row['Nomralized Poem']), axis=1)"
   ]
  },
  {
   "cell_type": "code",
   "execution_count": 18,
   "metadata": {},
   "outputs": [],
   "source": [
    "res2 = [','.join(ele) for ele in df_ii['Tokenized_Poem']] "
   ]
  },
  {
   "cell_type": "code",
   "execution_count": 19,
   "metadata": {},
   "outputs": [],
   "source": [
    "csv_list2 = to_csv(p_author2, p_title ,res2)"
   ]
  },
  {
   "cell_type": "code",
   "execution_count": 20,
   "metadata": {},
   "outputs": [],
   "source": [
    "df = pd.DataFrame(csv_list2,columns=['Author Name','Title of Poem','Poem Body'])"
   ]
  },
  {
   "cell_type": "code",
   "execution_count": 21,
   "metadata": {},
   "outputs": [
    {
     "data": {
      "text/html": [
       "<div>\n",
       "<style scoped>\n",
       "    .dataframe tbody tr th:only-of-type {\n",
       "        vertical-align: middle;\n",
       "    }\n",
       "\n",
       "    .dataframe tbody tr th {\n",
       "        vertical-align: top;\n",
       "    }\n",
       "\n",
       "    .dataframe thead th {\n",
       "        text-align: right;\n",
       "    }\n",
       "</style>\n",
       "<table border=\"1\" class=\"dataframe\">\n",
       "  <thead>\n",
       "    <tr style=\"text-align: right;\">\n",
       "      <th></th>\n",
       "      <th>Author Name</th>\n",
       "      <th>Title of Poem</th>\n",
       "      <th>Poem Body</th>\n",
       "    </tr>\n",
       "  </thead>\n",
       "  <tbody>\n",
       "    <tr>\n",
       "      <th>0</th>\n",
       "      <td>khayyam</td>\n",
       "      <td>{رباعی شماره ۱۴۳: قومی متفکرند اندر ره دین}</td>\n",
       "      <td>قومی,متفکرند,اندر,ره,دین,&amp;&amp;,قومی,به,گمان,فتاده...</td>\n",
       "    </tr>\n",
       "    <tr>\n",
       "      <th>1</th>\n",
       "      <td>khayyam</td>\n",
       "      <td>{رباعی شماره ۱۵۹: از کوزه‌گری کوزه خریدم باری}</td>\n",
       "      <td>از,کوزه‌گری,کوزه,خریدم,باری,&amp;&amp;,آن,کوزه,سخن,گفت...</td>\n",
       "    </tr>\n",
       "    <tr>\n",
       "      <th>2</th>\n",
       "      <td>khayyam</td>\n",
       "      <td>{رباعی شماره ۱۴: این بحر وجود آمده بیرون ز نهفت}</td>\n",
       "      <td>این,بحر,وجود,آمده,بیرون,ز,نهفت,&amp;&amp;,کس,نیست,که,ا...</td>\n",
       "    </tr>\n",
       "    <tr>\n",
       "      <th>3</th>\n",
       "      <td>khayyam</td>\n",
       "      <td>{رباعی شماره ۹۴: هم دانه امید به خرمن ماند}</td>\n",
       "      <td>هم,دانه,امید,به,خرمن,ماند,&amp;&amp;,هم,باغ,و,سرای,بی,...</td>\n",
       "    </tr>\n",
       "    <tr>\n",
       "      <th>4</th>\n",
       "      <td>khayyam</td>\n",
       "      <td>{رباعی شماره ۲: چون عهده نمی‌شود کسی فردا را}</td>\n",
       "      <td>چون,عهده,نمی‌شود,کسی,فردا,را,&amp;&amp;,حالی,خوش,دار,ا...</td>\n",
       "    </tr>\n",
       "    <tr>\n",
       "      <th>...</th>\n",
       "      <td>...</td>\n",
       "      <td>...</td>\n",
       "      <td>...</td>\n",
       "    </tr>\n",
       "    <tr>\n",
       "      <th>7876</th>\n",
       "      <td>hafez</td>\n",
       "      <td>{غزل شماره ۱۷۴: مژده ای دل که دگر باد صبا بازآمد}</td>\n",
       "      <td>مژده‌ای,دل,که,دگر,باد,صبا,بازآمد,&amp;&amp;,هدهد,خوش,خ...</td>\n",
       "    </tr>\n",
       "    <tr>\n",
       "      <th>7877</th>\n",
       "      <td>hafez</td>\n",
       "      <td>{غزل شماره ۱۲۱: هر آن کو خاطر مجموع و یار نازن...</td>\n",
       "      <td>هر,آن,کو,خاطر,مجموع,و,یار,نازنین,دارد,&amp;&amp;,سعادت...</td>\n",
       "    </tr>\n",
       "    <tr>\n",
       "      <th>7878</th>\n",
       "      <td>hafez</td>\n",
       "      <td>{غزل شماره ۴۳۷: ای قصه بهشت ز کویت حکایتی}</td>\n",
       "      <td>ای,قصه,بهشت,ز,کویت,حکایتی,&amp;&amp;,شرح,جمال,حور,ز,رو...</td>\n",
       "    </tr>\n",
       "    <tr>\n",
       "      <th>7879</th>\n",
       "      <td>hafez</td>\n",
       "      <td>{غزل شماره ۲۷: در دیر مغان آمد یارم قدحی در دست}</td>\n",
       "      <td>در,دیر,مغان,آمد,یارم,قدحی,در,دست,&amp;&amp;,مست,از,می‌...</td>\n",
       "    </tr>\n",
       "    <tr>\n",
       "      <th>7880</th>\n",
       "      <td>hafez</td>\n",
       "      <td>{غزل شماره ۲۴۳: بوی خوش تو هر که ز باد صبا شنید}</td>\n",
       "      <td>بوی,خوش,تو,هر,که,ز,باد,صبا,شنید,&amp;&amp;,از,یار,آشنا...</td>\n",
       "    </tr>\n",
       "  </tbody>\n",
       "</table>\n",
       "<p>7881 rows × 3 columns</p>\n",
       "</div>"
      ],
      "text/plain": [
       "     Author Name                                      Title of Poem  \\\n",
       "0        khayyam        {رباعی شماره ۱۴۳: قومی متفکرند اندر ره دین}   \n",
       "1        khayyam     {رباعی شماره ۱۵۹: از کوزه‌گری کوزه خریدم باری}   \n",
       "2        khayyam   {رباعی شماره ۱۴: این بحر وجود آمده بیرون ز نهفت}   \n",
       "3        khayyam        {رباعی شماره ۹۴: هم دانه امید به خرمن ماند}   \n",
       "4        khayyam      {رباعی شماره ۲: چون عهده نمی‌شود کسی فردا را}   \n",
       "...          ...                                                ...   \n",
       "7876       hafez  {غزل شماره ۱۷۴: مژده ای دل که دگر باد صبا بازآمد}   \n",
       "7877       hafez  {غزل شماره ۱۲۱: هر آن کو خاطر مجموع و یار نازن...   \n",
       "7878       hafez         {غزل شماره ۴۳۷: ای قصه بهشت ز کویت حکایتی}   \n",
       "7879       hafez   {غزل شماره ۲۷: در دیر مغان آمد یارم قدحی در دست}   \n",
       "7880       hafez   {غزل شماره ۲۴۳: بوی خوش تو هر که ز باد صبا شنید}   \n",
       "\n",
       "                                              Poem Body  \n",
       "0     قومی,متفکرند,اندر,ره,دین,&&,قومی,به,گمان,فتاده...  \n",
       "1     از,کوزه‌گری,کوزه,خریدم,باری,&&,آن,کوزه,سخن,گفت...  \n",
       "2     این,بحر,وجود,آمده,بیرون,ز,نهفت,&&,کس,نیست,که,ا...  \n",
       "3     هم,دانه,امید,به,خرمن,ماند,&&,هم,باغ,و,سرای,بی,...  \n",
       "4     چون,عهده,نمی‌شود,کسی,فردا,را,&&,حالی,خوش,دار,ا...  \n",
       "...                                                 ...  \n",
       "7876  مژده‌ای,دل,که,دگر,باد,صبا,بازآمد,&&,هدهد,خوش,خ...  \n",
       "7877  هر,آن,کو,خاطر,مجموع,و,یار,نازنین,دارد,&&,سعادت...  \n",
       "7878  ای,قصه,بهشت,ز,کویت,حکایتی,&&,شرح,جمال,حور,ز,رو...  \n",
       "7879  در,دیر,مغان,آمد,یارم,قدحی,در,دست,&&,مست,از,می‌...  \n",
       "7880  بوی,خوش,تو,هر,که,ز,باد,صبا,شنید,&&,از,یار,آشنا...  \n",
       "\n",
       "[7881 rows x 3 columns]"
      ]
     },
     "execution_count": 21,
     "metadata": {},
     "output_type": "execute_result"
    }
   ],
   "source": [
    "df"
   ]
  },
  {
   "cell_type": "markdown",
   "metadata": {},
   "source": [
    "# Stemming"
   ]
  },
  {
   "cell_type": "markdown",
   "metadata": {},
   "source": [
    "### unfortunately the stemming system of hazm is not strong enough"
   ]
  },
  {
   "cell_type": "markdown",
   "metadata": {},
   "source": [
    "# Remove Stop Words"
   ]
  },
  {
   "cell_type": "code",
   "execution_count": 22,
   "metadata": {},
   "outputs": [
    {
     "name": "stdout",
     "output_type": "stream",
     "text": [
      "['و', 'که', 'از', 'به', 'را', 'در', 'تو', 'ز', 'آن', 'بر', 'او', 'این', 'چو', 'چون', 'تا', 'ای', 'هر', 'با', 'چه', 'بود', 'شد', 'ما', 'سر', 'گر', 'نه', 'همه', 'خود', 'اندر', 'است', 'هم', 'کرد', 'آمد', 'پیش', 'نیست', 'کن', 'سوی', 'باشد', 'کند', 'اگر', 'چنین', 'شود', 'پر', 'پس', 'همی', 'کز', 'یا', 'کی', 'آید', 'دارد', 'مر', '']\n"
     ]
    }
   ],
   "source": [
    "def stop_word(file_name):\n",
    "    with open(file_name, 'r', encoding=\"utf8\") as myfile:\n",
    "        stop_words = myfile.read().replace('\\n', ' ').replace(\"\\u200c\",\"\").replace(\"\\ufeff\",\"\").replace(\".\",\" \").split(' ')# a list of stop words\n",
    "    return stop_words\n",
    "stop_words = stop_word('Stopwords')\n",
    "print(stop_words)"
   ]
  },
  {
   "cell_type": "code",
   "execution_count": 23,
   "metadata": {},
   "outputs": [],
   "source": [
    "def pers_alphab(line):\n",
    "    \"\"\"\n",
    "    This function removes all the elements that are in a Persian\n",
    "    literature that is not a part of a normal alphabet.    \n",
    "    \"\"\"\n",
    "   \n",
    "    # replacing all spaces,hyphens,  with white space\n",
    "    space_pattern = r\"[\\xad\\ufeff\\u200e\\u200d\\u200b\\x7f\\u202a\\u2003\\xa0\\u206e\\u200c\\x9d]\"\n",
    "    space_pattern = re.compile(space_pattern)\n",
    "    line = space_pattern.sub(\" \", line)\n",
    "    \n",
    "    letter_dict = dict()\n",
    "    letter_dict[u\"ۀ\"] = u\"ه\"\n",
    "    letter_dict[u\"ة\"] = u\"ت\"\n",
    "    letter_dict[u\"ي\"] = u\"ی\"\n",
    "    letter_dict[u\"ؤ\"] = u\"و\"\n",
    "    letter_dict[u\"إ\"] = u\"ا\"\n",
    "    letter_dict[u\"ٹ\"] = u\"ت\"\n",
    "    letter_dict[u\"ڈ\"] = u\"د\"\n",
    "    letter_dict[u\"ئ\"] = u\"ی\"\n",
    "    letter_dict[u\"ﻨ\"] = u\"ن\"\n",
    "    letter_dict[u\"ﺠ\"] = u\"ج\"\n",
    "    letter_dict[u\"ﻣ\"] = u\"م\"\n",
    "    letter_dict[u\"ﷲ\"] = u\"\"\n",
    "    letter_dict[u\"ﻳ\"] = u\"ی\"\n",
    "    letter_dict[u\"ٻ\"] = u\"ب\"\n",
    "    letter_dict[u\"ٱ\"] = u\"ا\"\n",
    "    letter_dict[u\"ڵ\"] = u\"ل\"\n",
    "    letter_dict[u\"ﭘ\"] = u\"پ\"\n",
    "    letter_dict[u\"ﻪ\"] = u\"ه\"\n",
    "    letter_dict[u\"ﻳ\"] = u\"ی\"\n",
    "    letter_dict[u\"ٻ\"] = u\"ب\"\n",
    "    letter_dict[u\"ں\"] = u\"ن\"\n",
    "    letter_dict[u\"ٶ\"] = u\"و\"\n",
    "    letter_dict[u\"ٲ\"] = u\"ا\"\n",
    "    letter_dict[u\"ہ\"] = u\"ه\"\n",
    "    letter_dict[u\"ﻩ\"] = u\"ه\"\n",
    "    letter_dict[u\"ﻩ\"] = u\"ه\"\n",
    "    letter_dict[u\"ك\"] = u\"ک\"\n",
    "    letter_dict[u\"ﺆ\"] = u\"و\"\n",
    "    letter_dict[u\"أ\"] = u\"ا\"\n",
    "    letter_dict[u\"ﺪ\"] = u\"د\"\n",
    "    \n",
    "    # this function replace the keys of letter_dict with its values\n",
    "    letter_pattern = re.compile(r\"(\" + \"|\".join(letter_dict.keys()) + r\")\")\n",
    "    line = letter_pattern.sub(lambda x: letter_dict[x.group()], line) \n",
    "    \n",
    "    \n",
    "    return line"
   ]
  },
  {
   "cell_type": "code",
   "execution_count": 24,
   "metadata": {},
   "outputs": [],
   "source": [
    "df_ii['Parsed'] = df.apply(lambda row: pers_alphab(row['Poem Body']), axis=1)"
   ]
  },
  {
   "cell_type": "code",
   "execution_count": 25,
   "metadata": {},
   "outputs": [
    {
     "data": {
      "text/html": [
       "<div>\n",
       "<style scoped>\n",
       "    .dataframe tbody tr th:only-of-type {\n",
       "        vertical-align: middle;\n",
       "    }\n",
       "\n",
       "    .dataframe tbody tr th {\n",
       "        vertical-align: top;\n",
       "    }\n",
       "\n",
       "    .dataframe thead th {\n",
       "        text-align: right;\n",
       "    }\n",
       "</style>\n",
       "<table border=\"1\" class=\"dataframe\">\n",
       "  <thead>\n",
       "    <tr style=\"text-align: right;\">\n",
       "      <th></th>\n",
       "      <th>Author Name</th>\n",
       "      <th>Title of Poem</th>\n",
       "      <th>Poem Body</th>\n",
       "      <th>Nomralized Poem</th>\n",
       "      <th>Tokenized_Poem</th>\n",
       "      <th>Parsed</th>\n",
       "    </tr>\n",
       "  </thead>\n",
       "  <tbody>\n",
       "    <tr>\n",
       "      <th>0</th>\n",
       "      <td>khayyam</td>\n",
       "      <td>{رباعی شماره ۱۴۳: قومی متفکرند اندر ره دین}</td>\n",
       "      <td>قومی متفکرند اندر ره دین\\n&amp;&amp;\\nقومی به گمان فتا...</td>\n",
       "      <td>قومی متفکرند اندر ره دین\\n&amp;&amp;\\nقومی به گمان فتا...</td>\n",
       "      <td>[قومی, متفکرند, اندر, ره, دین, &amp;&amp;, قومی, به, گ...</td>\n",
       "      <td>قومی,متفکرند,اندر,ره,دین,&amp;&amp;,قومی,به,گمان,فتاده...</td>\n",
       "    </tr>\n",
       "    <tr>\n",
       "      <th>1</th>\n",
       "      <td>khayyam</td>\n",
       "      <td>{رباعی شماره ۱۵۹: از کوزه‌گری کوزه خریدم باری}</td>\n",
       "      <td>از کوزه‌گری کوزه خریدم باری\\n&amp;&amp;\\nآن کوزه سخن گ...</td>\n",
       "      <td>از کوزه‌گری کوزه خریدم باری\\n&amp;&amp;\\nآن کوزه سخن گ...</td>\n",
       "      <td>[از, کوزه‌گری, کوزه, خریدم, باری, &amp;&amp;, آن, کوزه...</td>\n",
       "      <td>از,کوزه گری,کوزه,خریدم,باری,&amp;&amp;,آن,کوزه,سخن,گفت...</td>\n",
       "    </tr>\n",
       "    <tr>\n",
       "      <th>2</th>\n",
       "      <td>khayyam</td>\n",
       "      <td>{رباعی شماره ۱۴: این بحر وجود آمده بیرون ز نهفت}</td>\n",
       "      <td>این بحر وجود آمده بیرون ز نهفت\\n&amp;&amp;\\nکس نیست که...</td>\n",
       "      <td>این بحر وجود آمده بیرون ز نهفت\\n&amp;&amp;\\nکس نیست که...</td>\n",
       "      <td>[این, بحر, وجود, آمده, بیرون, ز, نهفت, &amp;&amp;, کس,...</td>\n",
       "      <td>این,بحر,وجود,آمده,بیرون,ز,نهفت,&amp;&amp;,کس,نیست,که,ا...</td>\n",
       "    </tr>\n",
       "    <tr>\n",
       "      <th>3</th>\n",
       "      <td>khayyam</td>\n",
       "      <td>{رباعی شماره ۹۴: هم دانه امید به خرمن ماند}</td>\n",
       "      <td>هم دانه امید به خرمن ماند\\n&amp;&amp;\\nهم باغ و سرای ب...</td>\n",
       "      <td>هم دانه امید به خرمن ماند\\n&amp;&amp;\\nهم باغ و سرای ب...</td>\n",
       "      <td>[هم, دانه, امید, به, خرمن, ماند, &amp;&amp;, هم, باغ, ...</td>\n",
       "      <td>هم,دانه,امید,به,خرمن,ماند,&amp;&amp;,هم,باغ,و,سرای,بی,...</td>\n",
       "    </tr>\n",
       "    <tr>\n",
       "      <th>4</th>\n",
       "      <td>khayyam</td>\n",
       "      <td>{رباعی شماره ۲: چون عهده نمی‌شود کسی فردا را}</td>\n",
       "      <td>چون عهده نمی‌شود کسی فردا را\\n&amp;&amp;\\nحالی خوش دار...</td>\n",
       "      <td>چون عهده نمی‌شود کسی فردا را\\n&amp;&amp;\\nحالی خوش دار...</td>\n",
       "      <td>[چون, عهده, نمی‌شود, کسی, فردا, را, &amp;&amp;, حالی, ...</td>\n",
       "      <td>چون,عهده,نمی شود,کسی,فردا,را,&amp;&amp;,حالی,خوش,دار,ا...</td>\n",
       "    </tr>\n",
       "    <tr>\n",
       "      <th>...</th>\n",
       "      <td>...</td>\n",
       "      <td>...</td>\n",
       "      <td>...</td>\n",
       "      <td>...</td>\n",
       "      <td>...</td>\n",
       "      <td>...</td>\n",
       "    </tr>\n",
       "    <tr>\n",
       "      <th>7876</th>\n",
       "      <td>hafez</td>\n",
       "      <td>{غزل شماره ۱۷۴: مژده ای دل که دگر باد صبا بازآمد}</td>\n",
       "      <td>مژده ای دل که دگر باد صبا بازآمد\\n&amp;&amp;\\nهدهد خوش...</td>\n",
       "      <td>مژده‌ای دل که دگر باد صبا بازآمد\\n&amp;&amp;\\nهدهد خوش...</td>\n",
       "      <td>[مژده‌ای, دل, که, دگر, باد, صبا, بازآمد, &amp;&amp;, ه...</td>\n",
       "      <td>مژده ای,دل,که,دگر,باد,صبا,بازآمد,&amp;&amp;,هدهد,خوش,خ...</td>\n",
       "    </tr>\n",
       "    <tr>\n",
       "      <th>7877</th>\n",
       "      <td>hafez</td>\n",
       "      <td>{غزل شماره ۱۲۱: هر آن کو خاطر مجموع و یار نازن...</td>\n",
       "      <td>هر آن کو خاطر مجموع و یار نازنین دارد\\n&amp;&amp;\\nسعا...</td>\n",
       "      <td>هر آن کو خاطر مجموع و یار نازنین دارد\\n&amp;&amp;\\nسعا...</td>\n",
       "      <td>[هر, آن, کو, خاطر, مجموع, و, یار, نازنین, دارد...</td>\n",
       "      <td>هر,آن,کو,خاطر,مجموع,و,یار,نازنین,دارد,&amp;&amp;,سعادت...</td>\n",
       "    </tr>\n",
       "    <tr>\n",
       "      <th>7878</th>\n",
       "      <td>hafez</td>\n",
       "      <td>{غزل شماره ۴۳۷: ای قصه بهشت ز کویت حکایتی}</td>\n",
       "      <td>ای قصه بهشت ز کویت حکایتی\\n&amp;&amp;\\nشرح جمال حور ز ...</td>\n",
       "      <td>ای قصه بهشت ز کویت حکایتی\\n&amp;&amp;\\nشرح جمال حور ز ...</td>\n",
       "      <td>[ای, قصه, بهشت, ز, کویت, حکایتی, &amp;&amp;, شرح, جمال...</td>\n",
       "      <td>ای,قصه,بهشت,ز,کویت,حکایتی,&amp;&amp;,شرح,جمال,حور,ز,رو...</td>\n",
       "    </tr>\n",
       "    <tr>\n",
       "      <th>7879</th>\n",
       "      <td>hafez</td>\n",
       "      <td>{غزل شماره ۲۷: در دیر مغان آمد یارم قدحی در دست}</td>\n",
       "      <td>در دیر مغان آمد یارم قدحی در دست\\n&amp;&amp;\\nمست از م...</td>\n",
       "      <td>در دیر مغان آمد یارم قدحی در دست\\n&amp;&amp;\\nمست از م...</td>\n",
       "      <td>[در, دیر, مغان, آمد, یارم, قدحی, در, دست, &amp;&amp;, ...</td>\n",
       "      <td>در,دیر,مغان,آمد,یارم,قدحی,در,دست,&amp;&amp;,مست,از,می ...</td>\n",
       "    </tr>\n",
       "    <tr>\n",
       "      <th>7880</th>\n",
       "      <td>hafez</td>\n",
       "      <td>{غزل شماره ۲۴۳: بوی خوش تو هر که ز باد صبا شنید}</td>\n",
       "      <td>بوی خوش تو هر که ز باد صبا شنید\\n&amp;&amp;\\nاز یار آش...</td>\n",
       "      <td>بوی خوش تو هر که ز باد صبا شنید\\n&amp;&amp;\\nاز یار آش...</td>\n",
       "      <td>[بوی, خوش, تو, هر, که, ز, باد, صبا, شنید, &amp;&amp;, ...</td>\n",
       "      <td>بوی,خوش,تو,هر,که,ز,باد,صبا,شنید,&amp;&amp;,از,یار,آشنا...</td>\n",
       "    </tr>\n",
       "  </tbody>\n",
       "</table>\n",
       "<p>7881 rows × 6 columns</p>\n",
       "</div>"
      ],
      "text/plain": [
       "     Author Name                                      Title of Poem  \\\n",
       "0        khayyam        {رباعی شماره ۱۴۳: قومی متفکرند اندر ره دین}   \n",
       "1        khayyam     {رباعی شماره ۱۵۹: از کوزه‌گری کوزه خریدم باری}   \n",
       "2        khayyam   {رباعی شماره ۱۴: این بحر وجود آمده بیرون ز نهفت}   \n",
       "3        khayyam        {رباعی شماره ۹۴: هم دانه امید به خرمن ماند}   \n",
       "4        khayyam      {رباعی شماره ۲: چون عهده نمی‌شود کسی فردا را}   \n",
       "...          ...                                                ...   \n",
       "7876       hafez  {غزل شماره ۱۷۴: مژده ای دل که دگر باد صبا بازآمد}   \n",
       "7877       hafez  {غزل شماره ۱۲۱: هر آن کو خاطر مجموع و یار نازن...   \n",
       "7878       hafez         {غزل شماره ۴۳۷: ای قصه بهشت ز کویت حکایتی}   \n",
       "7879       hafez   {غزل شماره ۲۷: در دیر مغان آمد یارم قدحی در دست}   \n",
       "7880       hafez   {غزل شماره ۲۴۳: بوی خوش تو هر که ز باد صبا شنید}   \n",
       "\n",
       "                                              Poem Body  \\\n",
       "0     قومی متفکرند اندر ره دین\\n&&\\nقومی به گمان فتا...   \n",
       "1     از کوزه‌گری کوزه خریدم باری\\n&&\\nآن کوزه سخن گ...   \n",
       "2     این بحر وجود آمده بیرون ز نهفت\\n&&\\nکس نیست که...   \n",
       "3     هم دانه امید به خرمن ماند\\n&&\\nهم باغ و سرای ب...   \n",
       "4     چون عهده نمی‌شود کسی فردا را\\n&&\\nحالی خوش دار...   \n",
       "...                                                 ...   \n",
       "7876  مژده ای دل که دگر باد صبا بازآمد\\n&&\\nهدهد خوش...   \n",
       "7877  هر آن کو خاطر مجموع و یار نازنین دارد\\n&&\\nسعا...   \n",
       "7878  ای قصه بهشت ز کویت حکایتی\\n&&\\nشرح جمال حور ز ...   \n",
       "7879  در دیر مغان آمد یارم قدحی در دست\\n&&\\nمست از م...   \n",
       "7880  بوی خوش تو هر که ز باد صبا شنید\\n&&\\nاز یار آش...   \n",
       "\n",
       "                                        Nomralized Poem  \\\n",
       "0     قومی متفکرند اندر ره دین\\n&&\\nقومی به گمان فتا...   \n",
       "1     از کوزه‌گری کوزه خریدم باری\\n&&\\nآن کوزه سخن گ...   \n",
       "2     این بحر وجود آمده بیرون ز نهفت\\n&&\\nکس نیست که...   \n",
       "3     هم دانه امید به خرمن ماند\\n&&\\nهم باغ و سرای ب...   \n",
       "4     چون عهده نمی‌شود کسی فردا را\\n&&\\nحالی خوش دار...   \n",
       "...                                                 ...   \n",
       "7876  مژده‌ای دل که دگر باد صبا بازآمد\\n&&\\nهدهد خوش...   \n",
       "7877  هر آن کو خاطر مجموع و یار نازنین دارد\\n&&\\nسعا...   \n",
       "7878  ای قصه بهشت ز کویت حکایتی\\n&&\\nشرح جمال حور ز ...   \n",
       "7879  در دیر مغان آمد یارم قدحی در دست\\n&&\\nمست از م...   \n",
       "7880  بوی خوش تو هر که ز باد صبا شنید\\n&&\\nاز یار آش...   \n",
       "\n",
       "                                         Tokenized_Poem  \\\n",
       "0     [قومی, متفکرند, اندر, ره, دین, &&, قومی, به, گ...   \n",
       "1     [از, کوزه‌گری, کوزه, خریدم, باری, &&, آن, کوزه...   \n",
       "2     [این, بحر, وجود, آمده, بیرون, ز, نهفت, &&, کس,...   \n",
       "3     [هم, دانه, امید, به, خرمن, ماند, &&, هم, باغ, ...   \n",
       "4     [چون, عهده, نمی‌شود, کسی, فردا, را, &&, حالی, ...   \n",
       "...                                                 ...   \n",
       "7876  [مژده‌ای, دل, که, دگر, باد, صبا, بازآمد, &&, ه...   \n",
       "7877  [هر, آن, کو, خاطر, مجموع, و, یار, نازنین, دارد...   \n",
       "7878  [ای, قصه, بهشت, ز, کویت, حکایتی, &&, شرح, جمال...   \n",
       "7879  [در, دیر, مغان, آمد, یارم, قدحی, در, دست, &&, ...   \n",
       "7880  [بوی, خوش, تو, هر, که, ز, باد, صبا, شنید, &&, ...   \n",
       "\n",
       "                                                 Parsed  \n",
       "0     قومی,متفکرند,اندر,ره,دین,&&,قومی,به,گمان,فتاده...  \n",
       "1     از,کوزه گری,کوزه,خریدم,باری,&&,آن,کوزه,سخن,گفت...  \n",
       "2     این,بحر,وجود,آمده,بیرون,ز,نهفت,&&,کس,نیست,که,ا...  \n",
       "3     هم,دانه,امید,به,خرمن,ماند,&&,هم,باغ,و,سرای,بی,...  \n",
       "4     چون,عهده,نمی شود,کسی,فردا,را,&&,حالی,خوش,دار,ا...  \n",
       "...                                                 ...  \n",
       "7876  مژده ای,دل,که,دگر,باد,صبا,بازآمد,&&,هدهد,خوش,خ...  \n",
       "7877  هر,آن,کو,خاطر,مجموع,و,یار,نازنین,دارد,&&,سعادت...  \n",
       "7878  ای,قصه,بهشت,ز,کویت,حکایتی,&&,شرح,جمال,حور,ز,رو...  \n",
       "7879  در,دیر,مغان,آمد,یارم,قدحی,در,دست,&&,مست,از,می ...  \n",
       "7880  بوی,خوش,تو,هر,که,ز,باد,صبا,شنید,&&,از,یار,آشنا...  \n",
       "\n",
       "[7881 rows x 6 columns]"
      ]
     },
     "execution_count": 25,
     "metadata": {},
     "output_type": "execute_result"
    }
   ],
   "source": [
    "df_ii"
   ]
  },
  {
   "cell_type": "code",
   "execution_count": 26,
   "metadata": {},
   "outputs": [],
   "source": [
    "pat = r'\\b(?:{})\\b'.format('|'.join(stop_words[:]))\n",
    "df_ii['without_stopwords'] = df_ii['Parsed'].str.replace(pat, '')\n",
    "df_ii['without_stopwords'] = df_ii['without_stopwords'].str.replace(r'\\s+', ' ')"
   ]
  },
  {
   "cell_type": "markdown",
   "metadata": {},
   "source": [
    "# Stemming "
   ]
  },
  {
   "cell_type": "code",
   "execution_count": 27,
   "metadata": {},
   "outputs": [
    {
     "data": {
      "text/plain": [
       "0       قومی,متفکرند,,ره,دین,&&,قومی,,گمان,فتاده,,راه,...\n",
       "1       ,کوزه گری,کوزه,خریدم,باری,&&,,کوزه,سخن,گفت,,,ا...\n",
       "2       ,بحر,وجود,آمده,بیرون,,نهفت,&&,کس,,,,گوهر,تحقیق...\n",
       "3       ,دانه,امید,,خرمن,ماند,&&,,باغ,,سرای,بی,,,من,ما...\n",
       "4       ,عهده,نمی ,کسی,فردا,,&&,حالی,خوش,دار,,دل,,سودا...\n",
       "                              ...                        \n",
       "7876    مژده ,دل,,دگر,باد,صبا,بازآمد,&&,هدهد,خوش,خبر,,...\n",
       "7877    ,,کو,خاطر,مجموع,,یار,نازنین,,&&,سعادت,همدم,,گش...\n",
       "7878    ,قصه,بهشت,,کویت,حکایتی,&&,شرح,جمال,حور,,رویت,ر...\n",
       "7879    ,دیر,مغان,,یارم,قدحی,,دست,&&,مست,,می ,میخواران...\n",
       "7880    بوی,خوش,,,,,باد,صبا,شنید,&&,,یار,آشنا,سخن,آشنا...\n",
       "Name: without_stopwords, Length: 7881, dtype: object"
      ]
     },
     "execution_count": 27,
     "metadata": {},
     "output_type": "execute_result"
    }
   ],
   "source": [
    "df_ii['without_stopwords']"
   ]
  },
  {
   "cell_type": "code",
   "execution_count": 28,
   "metadata": {},
   "outputs": [],
   "source": [
    "to_drop = ['Parsed','Tokenized_Poem','Nomralized Poem','Poem Body']"
   ]
  },
  {
   "cell_type": "code",
   "execution_count": 29,
   "metadata": {},
   "outputs": [],
   "source": [
    "df = df_ii"
   ]
  },
  {
   "cell_type": "code",
   "execution_count": 30,
   "metadata": {},
   "outputs": [],
   "source": [
    "#df = df.drop(to_drop, axis = 1)"
   ]
  },
  {
   "cell_type": "code",
   "execution_count": 31,
   "metadata": {},
   "outputs": [
    {
     "data": {
      "text/html": [
       "<div>\n",
       "<style scoped>\n",
       "    .dataframe tbody tr th:only-of-type {\n",
       "        vertical-align: middle;\n",
       "    }\n",
       "\n",
       "    .dataframe tbody tr th {\n",
       "        vertical-align: top;\n",
       "    }\n",
       "\n",
       "    .dataframe thead th {\n",
       "        text-align: right;\n",
       "    }\n",
       "</style>\n",
       "<table border=\"1\" class=\"dataframe\">\n",
       "  <thead>\n",
       "    <tr style=\"text-align: right;\">\n",
       "      <th></th>\n",
       "      <th>Author Name</th>\n",
       "      <th>Title of Poem</th>\n",
       "      <th>Poem Body</th>\n",
       "      <th>Nomralized Poem</th>\n",
       "      <th>Tokenized_Poem</th>\n",
       "      <th>Parsed</th>\n",
       "      <th>without_stopwords</th>\n",
       "    </tr>\n",
       "  </thead>\n",
       "  <tbody>\n",
       "    <tr>\n",
       "      <th>0</th>\n",
       "      <td>khayyam</td>\n",
       "      <td>{رباعی شماره ۱۴۳: قومی متفکرند اندر ره دین}</td>\n",
       "      <td>قومی متفکرند اندر ره دین\\n&amp;&amp;\\nقومی به گمان فتا...</td>\n",
       "      <td>قومی متفکرند اندر ره دین\\n&amp;&amp;\\nقومی به گمان فتا...</td>\n",
       "      <td>[قومی, متفکرند, اندر, ره, دین, &amp;&amp;, قومی, به, گ...</td>\n",
       "      <td>قومی,متفکرند,اندر,ره,دین,&amp;&amp;,قومی,به,گمان,فتاده...</td>\n",
       "      <td>قومی,متفکرند,,ره,دین,&amp;&amp;,قومی,,گمان,فتاده,,راه,...</td>\n",
       "    </tr>\n",
       "    <tr>\n",
       "      <th>1</th>\n",
       "      <td>khayyam</td>\n",
       "      <td>{رباعی شماره ۱۵۹: از کوزه‌گری کوزه خریدم باری}</td>\n",
       "      <td>از کوزه‌گری کوزه خریدم باری\\n&amp;&amp;\\nآن کوزه سخن گ...</td>\n",
       "      <td>از کوزه‌گری کوزه خریدم باری\\n&amp;&amp;\\nآن کوزه سخن گ...</td>\n",
       "      <td>[از, کوزه‌گری, کوزه, خریدم, باری, &amp;&amp;, آن, کوزه...</td>\n",
       "      <td>از,کوزه گری,کوزه,خریدم,باری,&amp;&amp;,آن,کوزه,سخن,گفت...</td>\n",
       "      <td>,کوزه گری,کوزه,خریدم,باری,&amp;&amp;,,کوزه,سخن,گفت,,,ا...</td>\n",
       "    </tr>\n",
       "    <tr>\n",
       "      <th>2</th>\n",
       "      <td>khayyam</td>\n",
       "      <td>{رباعی شماره ۱۴: این بحر وجود آمده بیرون ز نهفت}</td>\n",
       "      <td>این بحر وجود آمده بیرون ز نهفت\\n&amp;&amp;\\nکس نیست که...</td>\n",
       "      <td>این بحر وجود آمده بیرون ز نهفت\\n&amp;&amp;\\nکس نیست که...</td>\n",
       "      <td>[این, بحر, وجود, آمده, بیرون, ز, نهفت, &amp;&amp;, کس,...</td>\n",
       "      <td>این,بحر,وجود,آمده,بیرون,ز,نهفت,&amp;&amp;,کس,نیست,که,ا...</td>\n",
       "      <td>,بحر,وجود,آمده,بیرون,,نهفت,&amp;&amp;,کس,,,,گوهر,تحقیق...</td>\n",
       "    </tr>\n",
       "    <tr>\n",
       "      <th>3</th>\n",
       "      <td>khayyam</td>\n",
       "      <td>{رباعی شماره ۹۴: هم دانه امید به خرمن ماند}</td>\n",
       "      <td>هم دانه امید به خرمن ماند\\n&amp;&amp;\\nهم باغ و سرای ب...</td>\n",
       "      <td>هم دانه امید به خرمن ماند\\n&amp;&amp;\\nهم باغ و سرای ب...</td>\n",
       "      <td>[هم, دانه, امید, به, خرمن, ماند, &amp;&amp;, هم, باغ, ...</td>\n",
       "      <td>هم,دانه,امید,به,خرمن,ماند,&amp;&amp;,هم,باغ,و,سرای,بی,...</td>\n",
       "      <td>,دانه,امید,,خرمن,ماند,&amp;&amp;,,باغ,,سرای,بی,,,من,ما...</td>\n",
       "    </tr>\n",
       "    <tr>\n",
       "      <th>4</th>\n",
       "      <td>khayyam</td>\n",
       "      <td>{رباعی شماره ۲: چون عهده نمی‌شود کسی فردا را}</td>\n",
       "      <td>چون عهده نمی‌شود کسی فردا را\\n&amp;&amp;\\nحالی خوش دار...</td>\n",
       "      <td>چون عهده نمی‌شود کسی فردا را\\n&amp;&amp;\\nحالی خوش دار...</td>\n",
       "      <td>[چون, عهده, نمی‌شود, کسی, فردا, را, &amp;&amp;, حالی, ...</td>\n",
       "      <td>چون,عهده,نمی شود,کسی,فردا,را,&amp;&amp;,حالی,خوش,دار,ا...</td>\n",
       "      <td>,عهده,نمی ,کسی,فردا,,&amp;&amp;,حالی,خوش,دار,,دل,,سودا...</td>\n",
       "    </tr>\n",
       "    <tr>\n",
       "      <th>...</th>\n",
       "      <td>...</td>\n",
       "      <td>...</td>\n",
       "      <td>...</td>\n",
       "      <td>...</td>\n",
       "      <td>...</td>\n",
       "      <td>...</td>\n",
       "      <td>...</td>\n",
       "    </tr>\n",
       "    <tr>\n",
       "      <th>7876</th>\n",
       "      <td>hafez</td>\n",
       "      <td>{غزل شماره ۱۷۴: مژده ای دل که دگر باد صبا بازآمد}</td>\n",
       "      <td>مژده ای دل که دگر باد صبا بازآمد\\n&amp;&amp;\\nهدهد خوش...</td>\n",
       "      <td>مژده‌ای دل که دگر باد صبا بازآمد\\n&amp;&amp;\\nهدهد خوش...</td>\n",
       "      <td>[مژده‌ای, دل, که, دگر, باد, صبا, بازآمد, &amp;&amp;, ه...</td>\n",
       "      <td>مژده ای,دل,که,دگر,باد,صبا,بازآمد,&amp;&amp;,هدهد,خوش,خ...</td>\n",
       "      <td>مژده ,دل,,دگر,باد,صبا,بازآمد,&amp;&amp;,هدهد,خوش,خبر,,...</td>\n",
       "    </tr>\n",
       "    <tr>\n",
       "      <th>7877</th>\n",
       "      <td>hafez</td>\n",
       "      <td>{غزل شماره ۱۲۱: هر آن کو خاطر مجموع و یار نازن...</td>\n",
       "      <td>هر آن کو خاطر مجموع و یار نازنین دارد\\n&amp;&amp;\\nسعا...</td>\n",
       "      <td>هر آن کو خاطر مجموع و یار نازنین دارد\\n&amp;&amp;\\nسعا...</td>\n",
       "      <td>[هر, آن, کو, خاطر, مجموع, و, یار, نازنین, دارد...</td>\n",
       "      <td>هر,آن,کو,خاطر,مجموع,و,یار,نازنین,دارد,&amp;&amp;,سعادت...</td>\n",
       "      <td>,,کو,خاطر,مجموع,,یار,نازنین,,&amp;&amp;,سعادت,همدم,,گش...</td>\n",
       "    </tr>\n",
       "    <tr>\n",
       "      <th>7878</th>\n",
       "      <td>hafez</td>\n",
       "      <td>{غزل شماره ۴۳۷: ای قصه بهشت ز کویت حکایتی}</td>\n",
       "      <td>ای قصه بهشت ز کویت حکایتی\\n&amp;&amp;\\nشرح جمال حور ز ...</td>\n",
       "      <td>ای قصه بهشت ز کویت حکایتی\\n&amp;&amp;\\nشرح جمال حور ز ...</td>\n",
       "      <td>[ای, قصه, بهشت, ز, کویت, حکایتی, &amp;&amp;, شرح, جمال...</td>\n",
       "      <td>ای,قصه,بهشت,ز,کویت,حکایتی,&amp;&amp;,شرح,جمال,حور,ز,رو...</td>\n",
       "      <td>,قصه,بهشت,,کویت,حکایتی,&amp;&amp;,شرح,جمال,حور,,رویت,ر...</td>\n",
       "    </tr>\n",
       "    <tr>\n",
       "      <th>7879</th>\n",
       "      <td>hafez</td>\n",
       "      <td>{غزل شماره ۲۷: در دیر مغان آمد یارم قدحی در دست}</td>\n",
       "      <td>در دیر مغان آمد یارم قدحی در دست\\n&amp;&amp;\\nمست از م...</td>\n",
       "      <td>در دیر مغان آمد یارم قدحی در دست\\n&amp;&amp;\\nمست از م...</td>\n",
       "      <td>[در, دیر, مغان, آمد, یارم, قدحی, در, دست, &amp;&amp;, ...</td>\n",
       "      <td>در,دیر,مغان,آمد,یارم,قدحی,در,دست,&amp;&amp;,مست,از,می ...</td>\n",
       "      <td>,دیر,مغان,,یارم,قدحی,,دست,&amp;&amp;,مست,,می ,میخواران...</td>\n",
       "    </tr>\n",
       "    <tr>\n",
       "      <th>7880</th>\n",
       "      <td>hafez</td>\n",
       "      <td>{غزل شماره ۲۴۳: بوی خوش تو هر که ز باد صبا شنید}</td>\n",
       "      <td>بوی خوش تو هر که ز باد صبا شنید\\n&amp;&amp;\\nاز یار آش...</td>\n",
       "      <td>بوی خوش تو هر که ز باد صبا شنید\\n&amp;&amp;\\nاز یار آش...</td>\n",
       "      <td>[بوی, خوش, تو, هر, که, ز, باد, صبا, شنید, &amp;&amp;, ...</td>\n",
       "      <td>بوی,خوش,تو,هر,که,ز,باد,صبا,شنید,&amp;&amp;,از,یار,آشنا...</td>\n",
       "      <td>بوی,خوش,,,,,باد,صبا,شنید,&amp;&amp;,,یار,آشنا,سخن,آشنا...</td>\n",
       "    </tr>\n",
       "  </tbody>\n",
       "</table>\n",
       "<p>7881 rows × 7 columns</p>\n",
       "</div>"
      ],
      "text/plain": [
       "     Author Name                                      Title of Poem  \\\n",
       "0        khayyam        {رباعی شماره ۱۴۳: قومی متفکرند اندر ره دین}   \n",
       "1        khayyam     {رباعی شماره ۱۵۹: از کوزه‌گری کوزه خریدم باری}   \n",
       "2        khayyam   {رباعی شماره ۱۴: این بحر وجود آمده بیرون ز نهفت}   \n",
       "3        khayyam        {رباعی شماره ۹۴: هم دانه امید به خرمن ماند}   \n",
       "4        khayyam      {رباعی شماره ۲: چون عهده نمی‌شود کسی فردا را}   \n",
       "...          ...                                                ...   \n",
       "7876       hafez  {غزل شماره ۱۷۴: مژده ای دل که دگر باد صبا بازآمد}   \n",
       "7877       hafez  {غزل شماره ۱۲۱: هر آن کو خاطر مجموع و یار نازن...   \n",
       "7878       hafez         {غزل شماره ۴۳۷: ای قصه بهشت ز کویت حکایتی}   \n",
       "7879       hafez   {غزل شماره ۲۷: در دیر مغان آمد یارم قدحی در دست}   \n",
       "7880       hafez   {غزل شماره ۲۴۳: بوی خوش تو هر که ز باد صبا شنید}   \n",
       "\n",
       "                                              Poem Body  \\\n",
       "0     قومی متفکرند اندر ره دین\\n&&\\nقومی به گمان فتا...   \n",
       "1     از کوزه‌گری کوزه خریدم باری\\n&&\\nآن کوزه سخن گ...   \n",
       "2     این بحر وجود آمده بیرون ز نهفت\\n&&\\nکس نیست که...   \n",
       "3     هم دانه امید به خرمن ماند\\n&&\\nهم باغ و سرای ب...   \n",
       "4     چون عهده نمی‌شود کسی فردا را\\n&&\\nحالی خوش دار...   \n",
       "...                                                 ...   \n",
       "7876  مژده ای دل که دگر باد صبا بازآمد\\n&&\\nهدهد خوش...   \n",
       "7877  هر آن کو خاطر مجموع و یار نازنین دارد\\n&&\\nسعا...   \n",
       "7878  ای قصه بهشت ز کویت حکایتی\\n&&\\nشرح جمال حور ز ...   \n",
       "7879  در دیر مغان آمد یارم قدحی در دست\\n&&\\nمست از م...   \n",
       "7880  بوی خوش تو هر که ز باد صبا شنید\\n&&\\nاز یار آش...   \n",
       "\n",
       "                                        Nomralized Poem  \\\n",
       "0     قومی متفکرند اندر ره دین\\n&&\\nقومی به گمان فتا...   \n",
       "1     از کوزه‌گری کوزه خریدم باری\\n&&\\nآن کوزه سخن گ...   \n",
       "2     این بحر وجود آمده بیرون ز نهفت\\n&&\\nکس نیست که...   \n",
       "3     هم دانه امید به خرمن ماند\\n&&\\nهم باغ و سرای ب...   \n",
       "4     چون عهده نمی‌شود کسی فردا را\\n&&\\nحالی خوش دار...   \n",
       "...                                                 ...   \n",
       "7876  مژده‌ای دل که دگر باد صبا بازآمد\\n&&\\nهدهد خوش...   \n",
       "7877  هر آن کو خاطر مجموع و یار نازنین دارد\\n&&\\nسعا...   \n",
       "7878  ای قصه بهشت ز کویت حکایتی\\n&&\\nشرح جمال حور ز ...   \n",
       "7879  در دیر مغان آمد یارم قدحی در دست\\n&&\\nمست از م...   \n",
       "7880  بوی خوش تو هر که ز باد صبا شنید\\n&&\\nاز یار آش...   \n",
       "\n",
       "                                         Tokenized_Poem  \\\n",
       "0     [قومی, متفکرند, اندر, ره, دین, &&, قومی, به, گ...   \n",
       "1     [از, کوزه‌گری, کوزه, خریدم, باری, &&, آن, کوزه...   \n",
       "2     [این, بحر, وجود, آمده, بیرون, ز, نهفت, &&, کس,...   \n",
       "3     [هم, دانه, امید, به, خرمن, ماند, &&, هم, باغ, ...   \n",
       "4     [چون, عهده, نمی‌شود, کسی, فردا, را, &&, حالی, ...   \n",
       "...                                                 ...   \n",
       "7876  [مژده‌ای, دل, که, دگر, باد, صبا, بازآمد, &&, ه...   \n",
       "7877  [هر, آن, کو, خاطر, مجموع, و, یار, نازنین, دارد...   \n",
       "7878  [ای, قصه, بهشت, ز, کویت, حکایتی, &&, شرح, جمال...   \n",
       "7879  [در, دیر, مغان, آمد, یارم, قدحی, در, دست, &&, ...   \n",
       "7880  [بوی, خوش, تو, هر, که, ز, باد, صبا, شنید, &&, ...   \n",
       "\n",
       "                                                 Parsed  \\\n",
       "0     قومی,متفکرند,اندر,ره,دین,&&,قومی,به,گمان,فتاده...   \n",
       "1     از,کوزه گری,کوزه,خریدم,باری,&&,آن,کوزه,سخن,گفت...   \n",
       "2     این,بحر,وجود,آمده,بیرون,ز,نهفت,&&,کس,نیست,که,ا...   \n",
       "3     هم,دانه,امید,به,خرمن,ماند,&&,هم,باغ,و,سرای,بی,...   \n",
       "4     چون,عهده,نمی شود,کسی,فردا,را,&&,حالی,خوش,دار,ا...   \n",
       "...                                                 ...   \n",
       "7876  مژده ای,دل,که,دگر,باد,صبا,بازآمد,&&,هدهد,خوش,خ...   \n",
       "7877  هر,آن,کو,خاطر,مجموع,و,یار,نازنین,دارد,&&,سعادت...   \n",
       "7878  ای,قصه,بهشت,ز,کویت,حکایتی,&&,شرح,جمال,حور,ز,رو...   \n",
       "7879  در,دیر,مغان,آمد,یارم,قدحی,در,دست,&&,مست,از,می ...   \n",
       "7880  بوی,خوش,تو,هر,که,ز,باد,صبا,شنید,&&,از,یار,آشنا...   \n",
       "\n",
       "                                      without_stopwords  \n",
       "0     قومی,متفکرند,,ره,دین,&&,قومی,,گمان,فتاده,,راه,...  \n",
       "1     ,کوزه گری,کوزه,خریدم,باری,&&,,کوزه,سخن,گفت,,,ا...  \n",
       "2     ,بحر,وجود,آمده,بیرون,,نهفت,&&,کس,,,,گوهر,تحقیق...  \n",
       "3     ,دانه,امید,,خرمن,ماند,&&,,باغ,,سرای,بی,,,من,ما...  \n",
       "4     ,عهده,نمی ,کسی,فردا,,&&,حالی,خوش,دار,,دل,,سودا...  \n",
       "...                                                 ...  \n",
       "7876  مژده ,دل,,دگر,باد,صبا,بازآمد,&&,هدهد,خوش,خبر,,...  \n",
       "7877  ,,کو,خاطر,مجموع,,یار,نازنین,,&&,سعادت,همدم,,گش...  \n",
       "7878  ,قصه,بهشت,,کویت,حکایتی,&&,شرح,جمال,حور,,رویت,ر...  \n",
       "7879  ,دیر,مغان,,یارم,قدحی,,دست,&&,مست,,می ,میخواران...  \n",
       "7880  بوی,خوش,,,,,باد,صبا,شنید,&&,,یار,آشنا,سخن,آشنا...  \n",
       "\n",
       "[7881 rows x 7 columns]"
      ]
     },
     "execution_count": 31,
     "metadata": {},
     "output_type": "execute_result"
    }
   ],
   "source": [
    "df"
   ]
  },
  {
   "cell_type": "code",
   "execution_count": 32,
   "metadata": {},
   "outputs": [],
   "source": [
    "to_drop = ['Poem Body','Nomralized Poem','Tokenized_Poem','Parsed']\n",
    "df  = df.drop(to_drop ,axis =1)"
   ]
  },
  {
   "cell_type": "code",
   "execution_count": 33,
   "metadata": {},
   "outputs": [],
   "source": [
    "df.columns = ['Shaer', 'Title', 'Poem']"
   ]
  },
  {
   "cell_type": "code",
   "execution_count": 34,
   "metadata": {},
   "outputs": [
    {
     "data": {
      "text/html": [
       "<div>\n",
       "<style scoped>\n",
       "    .dataframe tbody tr th:only-of-type {\n",
       "        vertical-align: middle;\n",
       "    }\n",
       "\n",
       "    .dataframe tbody tr th {\n",
       "        vertical-align: top;\n",
       "    }\n",
       "\n",
       "    .dataframe thead th {\n",
       "        text-align: right;\n",
       "    }\n",
       "</style>\n",
       "<table border=\"1\" class=\"dataframe\">\n",
       "  <thead>\n",
       "    <tr style=\"text-align: right;\">\n",
       "      <th></th>\n",
       "      <th>Shaer</th>\n",
       "      <th>Title</th>\n",
       "      <th>Poem</th>\n",
       "    </tr>\n",
       "  </thead>\n",
       "  <tbody>\n",
       "    <tr>\n",
       "      <th>0</th>\n",
       "      <td>khayyam</td>\n",
       "      <td>{رباعی شماره ۱۴۳: قومی متفکرند اندر ره دین}</td>\n",
       "      <td>قومی,متفکرند,,ره,دین,&amp;&amp;,قومی,,گمان,فتاده,,راه,...</td>\n",
       "    </tr>\n",
       "    <tr>\n",
       "      <th>1</th>\n",
       "      <td>khayyam</td>\n",
       "      <td>{رباعی شماره ۱۵۹: از کوزه‌گری کوزه خریدم باری}</td>\n",
       "      <td>,کوزه گری,کوزه,خریدم,باری,&amp;&amp;,,کوزه,سخن,گفت,,,ا...</td>\n",
       "    </tr>\n",
       "    <tr>\n",
       "      <th>2</th>\n",
       "      <td>khayyam</td>\n",
       "      <td>{رباعی شماره ۱۴: این بحر وجود آمده بیرون ز نهفت}</td>\n",
       "      <td>,بحر,وجود,آمده,بیرون,,نهفت,&amp;&amp;,کس,,,,گوهر,تحقیق...</td>\n",
       "    </tr>\n",
       "    <tr>\n",
       "      <th>3</th>\n",
       "      <td>khayyam</td>\n",
       "      <td>{رباعی شماره ۹۴: هم دانه امید به خرمن ماند}</td>\n",
       "      <td>,دانه,امید,,خرمن,ماند,&amp;&amp;,,باغ,,سرای,بی,,,من,ما...</td>\n",
       "    </tr>\n",
       "    <tr>\n",
       "      <th>4</th>\n",
       "      <td>khayyam</td>\n",
       "      <td>{رباعی شماره ۲: چون عهده نمی‌شود کسی فردا را}</td>\n",
       "      <td>,عهده,نمی ,کسی,فردا,,&amp;&amp;,حالی,خوش,دار,,دل,,سودا...</td>\n",
       "    </tr>\n",
       "  </tbody>\n",
       "</table>\n",
       "</div>"
      ],
      "text/plain": [
       "     Shaer                                             Title  \\\n",
       "0  khayyam       {رباعی شماره ۱۴۳: قومی متفکرند اندر ره دین}   \n",
       "1  khayyam    {رباعی شماره ۱۵۹: از کوزه‌گری کوزه خریدم باری}   \n",
       "2  khayyam  {رباعی شماره ۱۴: این بحر وجود آمده بیرون ز نهفت}   \n",
       "3  khayyam       {رباعی شماره ۹۴: هم دانه امید به خرمن ماند}   \n",
       "4  khayyam     {رباعی شماره ۲: چون عهده نمی‌شود کسی فردا را}   \n",
       "\n",
       "                                                Poem  \n",
       "0  قومی,متفکرند,,ره,دین,&&,قومی,,گمان,فتاده,,راه,...  \n",
       "1  ,کوزه گری,کوزه,خریدم,باری,&&,,کوزه,سخن,گفت,,,ا...  \n",
       "2  ,بحر,وجود,آمده,بیرون,,نهفت,&&,کس,,,,گوهر,تحقیق...  \n",
       "3  ,دانه,امید,,خرمن,ماند,&&,,باغ,,سرای,بی,,,من,ما...  \n",
       "4  ,عهده,نمی ,کسی,فردا,,&&,حالی,خوش,دار,,دل,,سودا...  "
      ]
     },
     "execution_count": 34,
     "metadata": {},
     "output_type": "execute_result"
    }
   ],
   "source": [
    "df.head()"
   ]
  },
  {
   "cell_type": "markdown",
   "metadata": {},
   "source": [
    "# whoosh Part ( schema , indexing , querying ) "
   ]
  },
  {
   "cell_type": "code",
   "execution_count": 35,
   "metadata": {
    "scrolled": true
   },
   "outputs": [],
   "source": [
    "###################################################################################\n",
    "#whoosh\n",
    "from whoosh import fields , index\n",
    "from whoosh import qparser\n",
    "from whoosh.fields import Schema, TEXT, ID, STORED\n",
    "from whoosh.analysis import StemmingAnalyzer,StandardAnalyzer\n",
    "from whoosh import index\n",
    "import os, os.path\n",
    "from whoosh.qparser import QueryParser\n",
    "from whoosh.qparser import FuzzyTermPlugin\n",
    "from whoosh.index import open_dir\n",
    "import codecs"
   ]
  },
  {
   "cell_type": "code",
   "execution_count": 36,
   "metadata": {},
   "outputs": [],
   "source": [
    "#Building schema for whoosh"
   ]
  },
  {
   "cell_type": "code",
   "execution_count": 37,
   "metadata": {},
   "outputs": [],
   "source": [
    "schema = Schema(author=TEXT(stored=True),\n",
    "                title=TEXT(stored=True),\n",
    "                body=TEXT(stored=True))"
   ]
  },
  {
   "cell_type": "code",
   "execution_count": 38,
   "metadata": {},
   "outputs": [],
   "source": [
    "##indexing on whoosh"
   ]
  },
  {
   "cell_type": "code",
   "execution_count": 39,
   "metadata": {},
   "outputs": [],
   "source": [
    "def populate_index(dirname, dataframe, schema):\n",
    "    # Checks for existing index path and creates one if not present\n",
    "    if not os.path.exists(dirname):\n",
    "        os.mkdir(dirname)\n",
    "    print(\"Creating the Index\")\n",
    "    ix = index.create_in(dirname, schema)\n",
    "    with ix.writer() as writer:\n",
    "        # Imports stories from pandas df\n",
    "        print(\"Populating the Index\")\n",
    "        for i in dataframe.index:\n",
    "            add_stories(i, dataframe, writer)"
   ]
  },
  {
   "cell_type": "code",
   "execution_count": 44,
   "metadata": {},
   "outputs": [],
   "source": [
    "def add_stories(i, dataframe, writer):   \n",
    "   \n",
    "    writer.update_document(author = str(dataframe.loc[i, 'Shaer']),\n",
    "                           title = str(dataframe.loc[i, 'Title']),\n",
    "                           body = str(dataframe.loc[i,'Poem']))\n",
    "    "
   ]
  },
  {
   "cell_type": "code",
   "execution_count": null,
   "metadata": {},
   "outputs": [],
   "source": []
  },
  {
   "cell_type": "code",
   "execution_count": 45,
   "metadata": {},
   "outputs": [
    {
     "name": "stdout",
     "output_type": "stream",
     "text": [
      "Creating the Index\n",
      "Populating the Index\n"
     ]
    }
   ],
   "source": [
    "populate_index('Poem_Index', df, schema)"
   ]
  },
  {
   "cell_type": "code",
   "execution_count": 46,
   "metadata": {},
   "outputs": [],
   "source": [
    "#Query searcher whoosh"
   ]
  },
  {
   "cell_type": "code",
   "execution_count": 50,
   "metadata": {},
   "outputs": [],
   "source": [
    "def index_search(dirname, search_fields, search_query):\n",
    "    ix = index.open_dir(dirname)\n",
    "    schema = ix.schema\n",
    "    print(ix)\n",
    "    print(schema)\n",
    "    # Create query parser that looks through designated fields in index\n",
    "    og = qparser.OrGroup.factory()\n",
    "    mp = qparser.MultifieldParser(search_fields, schema, group = og)\n",
    "\n",
    "    # This is the user query\n",
    "    q = mp.parse(search_query)\n",
    "    \n",
    "\n",
    "    # Actual searcher, prints top 10 hits\n",
    "    with ix.searcher() as s:\n",
    "        results = s.search(q, limit = 10)\n",
    "        parser = QueryParser(\"content\", schema=ix.schema)\n",
    "\n",
    "       \n",
    "        print(\"Search Results: \")\n",
    "        print(results)\n",
    "      "
   ]
  },
  {
   "cell_type": "code",
   "execution_count": 51,
   "metadata": {},
   "outputs": [
    {
     "name": "stdout",
     "output_type": "stream",
     "text": [
      "FileIndex(FileStorage('Poem_Index'), 'MAIN')\n",
      "<Schema: ['author', 'body', 'title']>\n",
      "Search Results: \n",
      "<Top 0 Results for Or([Term('Title', 'بردن'), Term('Poem', 'بردن'), Term('Title', 'پادشاه'), Term('Poem', 'پادشاه'), Term('Title', 'آن'), Term('Poem', 'آن'), Term('Title', 'طبیب'), Term('Poem', 'طبیب'), Term('Title', 'را'), Term('Poem', 'را'), Term('Title', 'بر'), Term('Poem', 'بر'), Term('Title', 'بیمار'), Term('Poem', 'بیمار'), Term('Title', 'تا'), Term('Poem', 'تا'), Term('Title', 'حال'), Term('Poem', 'حال'), Term('Title', 'او'), Term('Poem', 'او'), Term('Title', 'ببیند'), Term('Poem', 'ببیند'), Term('Title', 'خلوت'), Term('Poem', 'خلوت'), Term('Title', 'طلبیدن'), Term('Poem', 'طلبیدن'), Term('Title', 'ولی'), Term('Poem', 'ولی'), Term('Title', 'از'), Term('Poem', 'از'), Term('Title', 'جهت'), Term('Poem', 'جهت'), Term('Title', 'دریافتن'), Term('Poem', 'دریافتن'), Term('Title', 'رنج'), Term('Poem', 'رنج'), Term('Title', 'کنیزک'), Term('Poem', 'کنیزک'), Term('Title', 'ملاقات'), Term('Poem', 'ملاقات'), Term('Title', 'با'), Term('Poem', 'با'), Term('Title', 'که'), Term('Poem', 'که'), Term('Title', 'در'), Term('Poem', 'در'), Term('Title', 'خوابش'), Term('Poem', 'خوابش'), Term('Title', 'نمودند'), Term('Poem', 'نمودند'), Term('Title', 'ظاهر'), Term('Poem', 'ظاهر'), Term('Title', 'شدن'), Term('Poem', 'شدن'), Term('Title', 'عجز'), Term('Poem', 'عجز'), Term('Title', 'حکیمان'), Term('Poem', 'حکیمان'), Term('Title', 'معالجهٔ'), Term('Poem', 'معالجهٔ'), Term('Title', 'و'), Term('Poem', 'و'), Term('Title', 'روی'), Term('Poem', 'روی'), Term('Title', 'آوردن'), Term('Poem', 'آوردن'), Term('Title', 'به'), Term('Poem', 'به'), Term('Title', 'درگاه'), Term('Poem', 'درگاه'), Term('Title', 'اله'), Term('Poem', 'اله'), Term('Title', 'خواب'), Term('Poem', 'خواب'), Term('Title', 'دیدن'), Term('Poem', 'دیدن'), Term('Title', 'ولیی'), Term('Poem', 'ولیی'), Term('Title', 'راعاشق'), Term('Poem', 'راعاشق'), Term('Title', 'رنجور'), Term('Poem', 'رنجور'), Term('Title', 'تدبیر'), Term('Poem', 'تدبیر'), Term('Title', 'کردن'), Term('Poem', 'کردن'), Term('Title', 'صحت'), Term('Poem', 'صحت')]) runtime=0.0007725730001766351>\n"
     ]
    }
   ],
   "source": [
    "index_search('Poem_Index', ['Title', 'Poem'], u\"بردن پادشاه آن طبیب را بر بیمار تا حال او را ببیند خلوت طلبیدن آن ولی از پادشاه جهت دریافتن رنج کنیزک بردن پادشاه آن طبیب را بر بیمار تا حال او را ببیند ملاقات پادشاه با آن ولی که در خوابش نمودند ظاهر شدن عجز حکیمان از معالجهٔ کنیزک و روی آوردن پادشاه به درگاه اله و در خواب دیدن او ولیی راعاشق شدن پادشاه بر کنیزک رنجور و تدبیر کردن در صحت او\")"
   ]
  },
  {
   "cell_type": "markdown",
   "metadata": {},
   "source": [
    "Whoosh is not working for persian docs -- Just like Pylucene"
   ]
  },
  {
   "cell_type": "markdown",
   "metadata": {},
   "source": [
    "# Building Inverted Index and TF-IDF"
   ]
  },
  {
   "cell_type": "code",
   "execution_count": 36,
   "metadata": {},
   "outputs": [],
   "source": [
    "from collections import defaultdict\n",
    "#My module\n",
    "inv_indx = defaultdict(list)\n",
    "for idx, text in enumerate(df_ii['Tokenized_Poem']):\n",
    "    for word in text:\n",
    "        inv_indx[word].append(idx)"
   ]
  },
  {
   "cell_type": "code",
   "execution_count": 78,
   "metadata": {},
   "outputs": [],
   "source": [
    "#inv_indx"
   ]
  },
  {
   "cell_type": "code",
   "execution_count": 38,
   "metadata": {},
   "outputs": [],
   "source": [
    "#sklearn module\n",
    "from sklearn.feature_extraction.text import TfidfVectorizer\n",
    "from sklearn.feature_extraction.text import CountVectorizer\n",
    "from sklearn.metrics.pairwise import cosine_similarity\n",
    "v = TfidfVectorizer()\n",
    "x = v.fit_transform(df['Poem'])"
   ]
  },
  {
   "cell_type": "code",
   "execution_count": 50,
   "metadata": {},
   "outputs": [
    {
     "name": "stdout",
     "output_type": "stream",
     "text": [
      "CPU times: user 293 ms, sys: 553 ms, total: 846 ms\n",
      "Wall time: 844 ms\n"
     ]
    },
    {
     "data": {
      "text/plain": [
       "array([[0.        , 0.        , 0.        , ..., 0.        , 0.        ,\n",
       "        0.        ],\n",
       "       [0.        , 0.        , 0.        , ..., 0.        , 0.        ,\n",
       "        0.        ],\n",
       "       [0.        , 0.        , 0.        , ..., 0.        , 0.        ,\n",
       "        0.        ],\n",
       "       ...,\n",
       "       [0.04953164, 0.        , 0.        , ..., 0.        , 0.        ,\n",
       "        0.        ],\n",
       "       [0.        , 0.        , 0.        , ..., 0.        , 0.        ,\n",
       "        0.        ],\n",
       "       [0.        , 0.        , 0.        , ..., 0.        , 0.        ,\n",
       "        0.        ]])"
      ]
     },
     "execution_count": 50,
     "metadata": {},
     "output_type": "execute_result"
    }
   ],
   "source": [
    "%%time\n",
    "x.toarray()"
   ]
  },
  {
   "cell_type": "code",
   "execution_count": 51,
   "metadata": {},
   "outputs": [
    {
     "data": {
      "text/plain": [
       "(7881, 48938)"
      ]
     },
     "execution_count": 51,
     "metadata": {},
     "output_type": "execute_result"
    }
   ],
   "source": [
    "x.shape"
   ]
  },
  {
   "cell_type": "code",
   "execution_count": 77,
   "metadata": {},
   "outputs": [],
   "source": [
    "#v.vocabulary_"
   ]
  },
  {
   "cell_type": "code",
   "execution_count": 76,
   "metadata": {},
   "outputs": [],
   "source": [
    "#v.get_feature_names()"
   ]
  },
  {
   "cell_type": "markdown",
   "metadata": {},
   "source": [
    "Query Processing"
   ]
  },
  {
   "cell_type": "code",
   "execution_count": 54,
   "metadata": {},
   "outputs": [],
   "source": [
    "def query_Searcher(query):\n",
    "    query_vec = v.transform([query]) \n",
    "    results = cosine_similarity(x,query_vec).reshape((-1,))\n",
    "    for i in results.argsort()[-10:][::-1]:\n",
    "        print(df.iloc[i,0],\"--\",df.iloc[i,1])\n",
    "    "
   ]
  },
  {
   "cell_type": "code",
   "execution_count": 55,
   "metadata": {},
   "outputs": [],
   "source": [
    "query1 = \"بردن پادشاه آن طبیب را بر بیمار تا حال او را ببیند خلوت طلبیدن آن ولی از پادشاه جهت دریافتن رنج کنیزک بردن پادشاه آن طبیب را بر بیمار تا حال او را ببیند ملاقات پادشاه با آن ولی که در خوابش نمودند ظاهر شدن عجز حکیمان از معالجهٔ کنیزک و روی آوردن پادشاه به درگاه اله و در خواب دیدن او ولیی راعاشق شدن پادشاه بر کنیزک رنجور و تدبیر کردن در صحت او\""
   ]
  },
  {
   "cell_type": "code",
   "execution_count": 56,
   "metadata": {},
   "outputs": [],
   "source": [
    "query2 = \"بیان آنک کشتن و زهر دادن مرد زرگر به اشارت الهی بود نه به هوای نفس و تامل فاسد فرستادن پادشاه رسولان به سمرقند به آوردن زرگر\""
   ]
  },
  {
   "cell_type": "code",
   "execution_count": 57,
   "metadata": {},
   "outputs": [],
   "source": [
    "query3 = \"حکایت آن زن کی گفت شوهر را کی گوشت را گربه خورد شوهر گربه را به ترازو بر کشید گربه نیم من برآمد گفت ای زن گوشت نیم من بود و افزون اگر این گوشتست گربه کو و اگر این گربه است گوشت کو\""
   ]
  },
  {
   "cell_type": "code",
   "execution_count": 58,
   "metadata": {},
   "outputs": [
    {
     "name": "stdout",
     "output_type": "stream",
     "text": [
      "moulavi -- {بخش ۲ - عاشق شدن پادشاه بر کنیزک رنجور و تدبیر کردن در صحت او}\n",
      "hafez -- {غزل شماره ۵۳: منم که گوشه میخانه خانقاه من است}\n",
      "khayyam -- {رباعی شماره ۱۷۱: در کارگه کوزه‌گری کردم رای}\n",
      "moulavi -- {غزل شماره ۱۹۵۷: هست عاقل هر زمانی در غم پیدا شدن}\n",
      "hafez -- {غزل شماره ۲۸۵: در عهد پادشاه خطابخش جرم پوش}\n",
      "moulavi -- {رباعی شماره ۵۰۶: آن یار که از طبیب دل برباید}\n",
      "moulavi -- {بخش ۸۷ - در بیان کسی کی سخنی گوید کی حال او مناسب آن سخن و آن دعوی نباشد چنان که کفره و لن سالتهم من خلق السموات والارض لیقولن الله خدمت بت سنگین کردن و جان و زر فدای او کردن چه مناسب باشد با جانی کی داند کی خالق سموات و ارض و خلایق الهیست سمیعی بصیری حاضری مراقبی مستولی غیوری الی آخره}\n",
      "saadi -- {رباعی شماره ۱۱۸: مه را ز فلک به طرف بام آوردن}\n",
      "moulavi -- {غزل شماره ۷۵۳: هم لبان می‌فروشت باده را ارزان کند}\n",
      "moulavi -- {بخش ۵۹ - داستان آن کنیزک کی با خر خاتون شهوت می‌راند و او را چون بز و خرس آموخته بود شهوت راندن آدمیانه و کدویی در قضیب خر می‌کرد تا از اندازه نگذرد خاتون بر آن وقوف یافت لکن دقیقهٔ کدو را ندید کنیزک را ببهانه براه کرد جای دور و با خر جمع شد بی‌کدو و  هلاک شد بفضیحت کنیزک بیگاه باز آمد و نوحه کرد که ای جانم و ای چشم روشنم کیر دیدی کدو ندیدی ذکر دیدی آن دگر ندیدی کل ناقص ملعون یعنی کل نظر و فهم ناقص ملعون و اگر نه ناقصان ظاهر  جسم مرحوم‌اند ملعون نه‌اند بر خوان لیس علی الاعمی حرج نفی حرج  کرد و نفی لعنت و نفی عتاب و غضب}\n"
     ]
    }
   ],
   "source": [
    "query_Searcher(query1)"
   ]
  },
  {
   "cell_type": "code",
   "execution_count": 59,
   "metadata": {},
   "outputs": [
    {
     "name": "stdout",
     "output_type": "stream",
     "text": [
      "saadi -- {رباعی شماره ۱۱۸: مه را ز فلک به طرف بام آوردن}\n",
      "moulavi -- {بخش ۸ - دریافتن آن ولی رنج را و عرض کردن رنج او را پیش پادشاه}\n",
      "moulavi -- {رباعی شماره ۱۹۰۵: عشقت صنما چه دلبریها کردی}\n",
      "moulavi -- {غزل شماره ۵۲: چون همه عشق روی تست جمله رضای نفس ما}\n",
      "moulavi -- {غزل شماره ۱۲۸۳: ندا رسید به عاشق ز عالم رازش}\n",
      "moulavi -- {رباعی شماره ۴۷۵: آن را منگر که ذوفنون آید مرد}\n",
      "saadi -- {بخش ۲ - گفتار اندر فضیلت خاموشی: اگر پای در دامن آری چو کوه}\n",
      "saadi -- {غزل ۴۶۳: چه خوش بود دو دلارام دست در گردن}\n",
      "moulavi -- {بخش ۱۶۳ - حکایت آن مجاهد کی از همیان سیم هر روز یک درم در خندق انداختی به تفاریق از بهر ستیزهٔ حرص و آرزوی نفس و وسوسهٔ نفس کی چون می‌اندازی به خندق باری به یک‌بار بینداز تا خلاص یابم کی الیاس احدی الراحتین او گفته کی این راحت نیز ندهم}\n",
      "moulavi -- {غزل شماره ۲۸۸۳: چه حریصی که مرا بی‌خور و بی‌خواب کنی}\n"
     ]
    }
   ],
   "source": [
    "query_Searcher(query2)"
   ]
  },
  {
   "cell_type": "code",
   "execution_count": 60,
   "metadata": {},
   "outputs": [
    {
     "name": "stdout",
     "output_type": "stream",
     "text": [
      "moulavi -- {بخش ۱۴۴ - حکایت آن زن کی گفت شوهر را کی گوشت را گربه خورد شوهر گربه را به ترازو بر کشید گربه نیم من برآمد گفت ای زن گوشت نیم من بود و افزون اگر این گوشتست گربه کو و اگر این گربه است گوشت کو}\n",
      "moulavi -- {غزل شماره ۸۱۳: موشکی صندوق را سوراخ کرد}\n",
      "moulavi -- {غزل شماره ۷۵۰: شاد شد جانم که چشمت وعده احسان نهاد}\n",
      "moulavi -- {غزل شماره ۲۲۲۶: ای بکرده رخت عشاقان گرو}\n",
      "moulavi -- {بخش ۷۵ - قصهٔ آنک کسی به کسی مشورت می‌کرد گفتش  مشورت با دیگری کن کی من عدوی توم}\n",
      "moulavi -- {بخش ۱۳۳ - حکایت آن زن پلیدکار کی شوهر را گفت کی آن خیالات از سر امرودبن می‌نماید ترا کی چنینها نماید چشم آدمی را سر آن امرودبن از سر امرودبن فرود آی تا آن خیالها برود و اگر کسی گوید کی آنچ آن مرد  می‌دید خیال نبود و جواب این مثالیست نه مثل در مثال همین  قدر بس بود کی اگر بر سر امرودبن نرفتی هرگز آنها ندیدی خواه خیال خواه حقیقت}\n",
      "moulavi -- {بخش ۲۱ - آمن بودن بلعم باعور کی امتحانها کرد حضرت او را و از آنها روی سپید آمده بود}\n",
      "moulavi -- {رباعی شماره ۱۰۹۷: در عشق نوا جزو زند آنگه کل}\n",
      "moulavi -- {غزل شماره ۱۶۵۶: هم به درد این درد را درمان کنم}\n",
      "moulavi -- {غزل شماره ۲۲۲۳: ای همه سرگشتگان مهمان تو}\n"
     ]
    }
   ],
   "source": [
    "query_Searcher(query3)"
   ]
  },
  {
   "cell_type": "markdown",
   "metadata": {},
   "source": [
    "################################################################################################################ "
   ]
  },
  {
   "cell_type": "markdown",
   "metadata": {},
   "source": [
    "# ----------------------------------------------PART 2-----------------------------------------------------"
   ]
  },
  {
   "cell_type": "code",
   "execution_count": 61,
   "metadata": {},
   "outputs": [],
   "source": [
    "\n",
    "#Todo List: 1- Build a module for evaluation(accuracy-precision-recall-fscore)\n",
    "           #2- Build a module for KNN and Naive Bayes \n",
    "           #3- Build SVM module\n",
    "           "
   ]
  },
  {
   "cell_type": "code",
   "execution_count": 67,
   "metadata": {},
   "outputs": [],
   "source": [
    "path2 = \"/home/yazdan/Documents/IR Project/PersianPoemsData/Poems\"\n"
   ]
  },
  {
   "cell_type": "code",
   "execution_count": 68,
   "metadata": {},
   "outputs": [
    {
     "name": "stdout",
     "output_type": "stream",
     "text": [
      "['رفتم به طبیب جان گفتم که ببین دستم\\n', 'هم بی\\u200cدل و بیمارم هم عاشق و سرمستم\\n', 'صد گونه خلل دارم ای کاش یکی بودی\\n', 'با این همه علت\\u200cها در شنقصه پیوستم\\n', 'گفتا که نه تو مردی گفتم که بلی اما\\n', 'چون بوی توام آمد از گور برون جستم\\n', 'آن صورت روحانی وان مشرق یزدانی\\n', 'وان یوسف کنعانی کز وی کف خود خستم\\n', 'خوش خوش سوی من آمد دستی به دلم برزد\\n', 'گفتا ز چه دستی تو گفتم که از این دستم\\n', 'چون عربده می کردم درداد می و خوردم\\n', 'افروخت رخ زردم وز عربده وارستم\\n', 'پس جامه برون کردم مستانه جنون کردم\\n', 'در حلقه آن مستان در میمنه بنشستم\\n', 'صد جام بنوشیدم صد گونه بجوشیدم\\n', 'صد کاسه بریزیدم صد کوزه دراشکستم\\n', 'گوساله زرین را آن قوم پرستیده\\n', 'گوساله گرگینم گر عشق بنپرستم\\n', 'بازم شه روحانی می خواند پنهانی\\n', 'بر می کشدم بالا شاهانه از این پستم\\n', 'پابست توام جانا سرمست توام جانا\\n', 'در دست توام جانا گر تیرم وگر شستم\\n', 'چست توام ار چستم مست توام ار مستم\\n', 'پست توام ار پستم هست توام ار هستم\\n', 'در چرخ درآوردی چون مست خودم کردی\\n', 'چون تو سر خم بستی من نیز دهان بستم\\n']\n"
     ]
    }
   ],
   "source": [
    "poems = {}\n",
    "key = 0\n",
    "for (dir_path,dir_name,file_names) in os.walk(path2):\n",
    "    for the_file in file_names:\n",
    "        with open(dir_path + '/' + the_file, 'r',encoding=\"utf-8\") as f:\n",
    "            filled = f.readlines()\n",
    "            poems[int(key)] = filled\n",
    "            key = key+1\n",
    "    print (poems.get(4))"
   ]
  },
  {
   "cell_type": "code",
   "execution_count": 69,
   "metadata": {},
   "outputs": [],
   "source": [
    "df3 = pd.DataFrame(poems.items(), columns=['ID', 'Poem'])"
   ]
  },
  {
   "cell_type": "code",
   "execution_count": 70,
   "metadata": {},
   "outputs": [
    {
     "data": {
      "text/html": [
       "<div>\n",
       "<style scoped>\n",
       "    .dataframe tbody tr th:only-of-type {\n",
       "        vertical-align: middle;\n",
       "    }\n",
       "\n",
       "    .dataframe tbody tr th {\n",
       "        vertical-align: top;\n",
       "    }\n",
       "\n",
       "    .dataframe thead th {\n",
       "        text-align: right;\n",
       "    }\n",
       "</style>\n",
       "<table border=\"1\" class=\"dataframe\">\n",
       "  <thead>\n",
       "    <tr style=\"text-align: right;\">\n",
       "      <th></th>\n",
       "      <th>ID</th>\n",
       "      <th>Poem</th>\n",
       "    </tr>\n",
       "  </thead>\n",
       "  <tbody>\n",
       "    <tr>\n",
       "      <th>0</th>\n",
       "      <td>0</td>\n",
       "      <td>[من جان تو نیستم مگو جان غلطی\\n, من جان جنیدم ...</td>\n",
       "    </tr>\n",
       "    <tr>\n",
       "      <th>1</th>\n",
       "      <td>1</td>\n",
       "      <td>[بود بازرگان و او را طوطیی\\n, در قفس محبوس زیب...</td>\n",
       "    </tr>\n",
       "    <tr>\n",
       "      <th>2</th>\n",
       "      <td>2</td>\n",
       "      <td>[دی مست بدی دلا و چست و سفری\\n, امروز چه خورده...</td>\n",
       "    </tr>\n",
       "    <tr>\n",
       "      <th>3</th>\n",
       "      <td>3</td>\n",
       "      <td>[طوبی لمن آواه سر فؤاده\\n, سکن الفؤاد بعشقه و ...</td>\n",
       "    </tr>\n",
       "    <tr>\n",
       "      <th>4</th>\n",
       "      <td>4</td>\n",
       "      <td>[رفتم به طبیب جان گفتم که ببین دستم\\n, هم بی‌د...</td>\n",
       "    </tr>\n",
       "  </tbody>\n",
       "</table>\n",
       "</div>"
      ],
      "text/plain": [
       "   ID                                               Poem\n",
       "0   0  [من جان تو نیستم مگو جان غلطی\\n, من جان جنیدم ...\n",
       "1   1  [بود بازرگان و او را طوطیی\\n, در قفس محبوس زیب...\n",
       "2   2  [دی مست بدی دلا و چست و سفری\\n, امروز چه خورده...\n",
       "3   3  [طوبی لمن آواه سر فؤاده\\n, سکن الفؤاد بعشقه و ...\n",
       "4   4  [رفتم به طبیب جان گفتم که ببین دستم\\n, هم بی‌د..."
      ]
     },
     "execution_count": 70,
     "metadata": {},
     "output_type": "execute_result"
    }
   ],
   "source": [
    "df3.head()"
   ]
  },
  {
   "cell_type": "code",
   "execution_count": 71,
   "metadata": {},
   "outputs": [
    {
     "name": "stdout",
     "output_type": "stream",
     "text": [
      "رفتم به طبیب جان گفتم که ببین دستم\n",
      "هم بی‌دل و بیمارم هم عاشق و سرمستم\n",
      "صد گونه خلل دارم ای کاش یکی بودی\n",
      "با این همه علت‌ها در شنقصه پیوستم\n",
      "گفتا که نه تو مردی گفتم که بلی اما\n",
      "چون بوی توام آمد از گور برون جستم\n",
      "آن صورت روحانی وان مشرق یزدانی\n",
      "وان یوسف کنعانی کز وی کف خود خستم\n",
      "خوش خوش سوی من آمد دستی به دلم برزد\n",
      "گفتا ز چه دستی تو گفتم که از این دستم\n",
      "چون عربده می کردم درداد می و خوردم\n",
      "افروخت رخ زردم وز عربده وارستم\n",
      "پس جامه برون کردم مستانه جنون کردم\n",
      "در حلقه آن مستان در میمنه بنشستم\n",
      "صد جام بنوشیدم صد گونه بجوشیدم\n",
      "صد کاسه بریزیدم صد کوزه دراشکستم\n",
      "گوساله زرین را آن قوم پرستیده\n",
      "گوساله گرگینم گر عشق بنپرستم\n",
      "بازم شه روحانی می خواند پنهانی\n",
      "بر می کشدم بالا شاهانه از این پستم\n",
      "پابست توام جانا سرمست توام جانا\n",
      "در دست توام جانا گر تیرم وگر شستم\n",
      "چست توام ار چستم مست توام ار مستم\n",
      "پست توام ار پستم هست توام ار هستم\n",
      "در چرخ درآوردی چون مست خودم کردی\n",
      "چون تو سر خم بستی من نیز دهان بستم\n",
      "\n"
     ]
    }
   ],
   "source": [
    "res3 = [''.join(ele) for ele in df3['Poem']] \n",
    "\n",
    "print(str(res3[4]))"
   ]
  },
  {
   "cell_type": "markdown",
   "metadata": {},
   "source": [
    "# KNN "
   ]
  },
  {
   "cell_type": "code",
   "execution_count": 39,
   "metadata": {},
   "outputs": [],
   "source": [
    "from sklearn.model_selection import train_test_split\n",
    "from sklearn.neighbors import KNeighborsClassifier\n",
    "from sklearn.metrics import classification_report, confusion_matrix"
   ]
  },
  {
   "cell_type": "code",
   "execution_count": 40,
   "metadata": {},
   "outputs": [],
   "source": [
    "X = x.toarray()"
   ]
  },
  {
   "cell_type": "code",
   "execution_count": 41,
   "metadata": {},
   "outputs": [
    {
     "data": {
      "text/plain": [
       "array(['khayyam', 'moulavi', 'saadi', 'hafez'], dtype=object)"
      ]
     },
     "execution_count": 41,
     "metadata": {},
     "output_type": "execute_result"
    }
   ],
   "source": [
    "df['Shaer'].unique()"
   ]
  },
  {
   "cell_type": "code",
   "execution_count": 42,
   "metadata": {},
   "outputs": [],
   "source": [
    "class_to_num = {'khayyam': 0,\n",
    "                  'moulavi': 1,\n",
    "                  'saadi': 2,\n",
    "                  'hafez': 3}\n",
    "df['tmp'] = df['Shaer'].map(class_to_num)\n",
    "y = df['tmp']"
   ]
  },
  {
   "cell_type": "code",
   "execution_count": 43,
   "metadata": {},
   "outputs": [],
   "source": [
    "X_train, X_test, y_train, y_test = train_test_split(X, y, test_size=0.3)"
   ]
  },
  {
   "cell_type": "code",
   "execution_count": 69,
   "metadata": {},
   "outputs": [
    {
     "name": "stdout",
     "output_type": "stream",
     "text": [
      "CPU times: user 29.8 s, sys: 122 ms, total: 29.9 s\n",
      "Wall time: 29.9 s\n"
     ]
    }
   ],
   "source": [
    "%%time\n",
    "\n",
    "clf = KNeighborsClassifier(n_neighbors=3,n_jobs=-1)\n",
    "clf.fit(X_train, y_train)"
   ]
  },
  {
   "cell_type": "code",
   "execution_count": 70,
   "metadata": {},
   "outputs": [
    {
     "name": "stdout",
     "output_type": "stream",
     "text": [
      "CPU times: user 1h 2min 36s, sys: 1.08 s, total: 1h 2min 37s\n",
      "Wall time: 7min 56s\n"
     ]
    }
   ],
   "source": [
    "%%time\n",
    "y_pred = clf.predict(X_test)"
   ]
  },
  {
   "cell_type": "code",
   "execution_count": 74,
   "metadata": {},
   "outputs": [
    {
     "name": "stdout",
     "output_type": "stream",
     "text": [
      " The evaluated scores for knn with 3 neighbours is:\n",
      "---------------------------------------------------\n",
      "              precision    recall  f1-score   support\n",
      "\n",
      "           0       0.29      0.21      0.24        48\n",
      "           1       0.85      0.96      0.90      1868\n",
      "           2       0.66      0.36      0.46       311\n",
      "           3       0.36      0.15      0.21       138\n",
      "\n",
      "    accuracy                           0.82      2365\n",
      "   macro avg       0.54      0.42      0.45      2365\n",
      "weighted avg       0.79      0.82      0.79      2365\n",
      "\n"
     ]
    }
   ],
   "source": [
    "print(\" The evaluated scores for knn with 3 neighbours is:\")\n",
    "print(\"---------------------------------------------------\")\n",
    "#print(confusion_matrix(y_test, y_pred))\n",
    "print(classification_report(y_test, y_pred))"
   ]
  },
  {
   "cell_type": "code",
   "execution_count": 75,
   "metadata": {},
   "outputs": [
    {
     "name": "stdout",
     "output_type": "stream",
     "text": [
      "CPU times: user 30.8 s, sys: 108 ms, total: 30.9 s\n",
      "Wall time: 30.8 s\n"
     ]
    }
   ],
   "source": [
    "%%time\n",
    "\n",
    "clf2 = KNeighborsClassifier(n_neighbors=5,n_jobs=-1)\n",
    "clf2.fit(X_train, y_train)"
   ]
  },
  {
   "cell_type": "code",
   "execution_count": 76,
   "metadata": {},
   "outputs": [
    {
     "name": "stdout",
     "output_type": "stream",
     "text": [
      "CPU times: user 1h 3min 30s, sys: 772 ms, total: 1h 3min 30s\n",
      "Wall time: 8min 4s\n"
     ]
    }
   ],
   "source": [
    "%%time\n",
    "y_pred2 = clf2.predict(X_test)"
   ]
  },
  {
   "cell_type": "code",
   "execution_count": 77,
   "metadata": {},
   "outputs": [
    {
     "name": "stdout",
     "output_type": "stream",
     "text": [
      " The evaluated scores for knn with 5 neighbours is:\n",
      "---------------------------------------------------\n",
      "              precision    recall  f1-score   support\n",
      "\n",
      "           0       0.47      0.15      0.22        48\n",
      "           1       0.84      0.98      0.91      1868\n",
      "           2       0.72      0.33      0.46       311\n",
      "           3       0.59      0.12      0.19       138\n",
      "\n",
      "    accuracy                           0.83      2365\n",
      "   macro avg       0.65      0.39      0.45      2365\n",
      "weighted avg       0.80      0.83      0.79      2365\n",
      "\n"
     ]
    }
   ],
   "source": [
    "print(\" The evaluated scores for knn with 5 neighbours is:\")\n",
    "print(\"---------------------------------------------------\")\n",
    "#print(confusion_matrix(y_test, y_pred))\n",
    "print(classification_report(y_test, y_pred2))"
   ]
  },
  {
   "cell_type": "code",
   "execution_count": 78,
   "metadata": {},
   "outputs": [
    {
     "name": "stdout",
     "output_type": "stream",
     "text": [
      "CPU times: user 31 s, sys: 60 ms, total: 31 s\n",
      "Wall time: 31 s\n"
     ]
    }
   ],
   "source": [
    "%%time\n",
    "\n",
    "clf3 = KNeighborsClassifier(n_neighbors=1,n_jobs=-1)\n",
    "clf3.fit(X_train, y_train)"
   ]
  },
  {
   "cell_type": "code",
   "execution_count": 79,
   "metadata": {},
   "outputs": [
    {
     "name": "stdout",
     "output_type": "stream",
     "text": [
      "CPU times: user 1h 56s, sys: 756 ms, total: 1h 57s\n",
      "Wall time: 8min 7s\n"
     ]
    }
   ],
   "source": [
    "%%time\n",
    "y_pred3 = clf3.predict(X_test)"
   ]
  },
  {
   "cell_type": "code",
   "execution_count": 80,
   "metadata": {},
   "outputs": [
    {
     "name": "stdout",
     "output_type": "stream",
     "text": [
      " The evaluated scores for knn with 1 neighbour is:\n",
      "---------------------------------------------------\n",
      "              precision    recall  f1-score   support\n",
      "\n",
      "           0       0.27      0.21      0.24        48\n",
      "           1       0.86      0.88      0.87      1868\n",
      "           2       0.46      0.38      0.41       311\n",
      "           3       0.26      0.30      0.28       138\n",
      "\n",
      "    accuracy                           0.77      2365\n",
      "   macro avg       0.46      0.44      0.45      2365\n",
      "weighted avg       0.76      0.77      0.77      2365\n",
      "\n"
     ]
    }
   ],
   "source": [
    "print(\" The evaluated scores for knn with 1 neighbour is:\")\n",
    "print(\"---------------------------------------------------\")\n",
    "#print(confusion_matrix(y_test, y_pred))\n",
    "print(classification_report(y_test, y_pred3))"
   ]
  },
  {
   "cell_type": "markdown",
   "metadata": {},
   "source": [
    "# /////////////////////////////////////////////////NAIVE BAYES//////////////////////////////////////////////////////////"
   ]
  },
  {
   "cell_type": "code",
   "execution_count": 44,
   "metadata": {},
   "outputs": [],
   "source": [
    "from sklearn.naive_bayes import GaussianNB\n",
    "from sklearn.naive_bayes import MultinomialNB"
   ]
  },
  {
   "cell_type": "code",
   "execution_count": 45,
   "metadata": {},
   "outputs": [],
   "source": [
    "gnb = GaussianNB()"
   ]
  },
  {
   "cell_type": "code",
   "execution_count": 46,
   "metadata": {},
   "outputs": [
    {
     "data": {
      "text/plain": [
       "GaussianNB()"
      ]
     },
     "execution_count": 46,
     "metadata": {},
     "output_type": "execute_result"
    }
   ],
   "source": [
    "gnb.fit(X_train, y_train)"
   ]
  },
  {
   "cell_type": "code",
   "execution_count": 47,
   "metadata": {},
   "outputs": [
    {
     "data": {
      "text/plain": [
       "GaussianNB()"
      ]
     },
     "execution_count": 47,
     "metadata": {},
     "output_type": "execute_result"
    }
   ],
   "source": [
    "GaussianNB(priors=None)"
   ]
  },
  {
   "cell_type": "code",
   "execution_count": 48,
   "metadata": {},
   "outputs": [
    {
     "data": {
      "text/plain": [
       "0.9728063814358231"
      ]
     },
     "execution_count": 48,
     "metadata": {},
     "output_type": "execute_result"
    }
   ],
   "source": [
    "gnb.score(X_train, y_train)"
   ]
  },
  {
   "cell_type": "code",
   "execution_count": 50,
   "metadata": {},
   "outputs": [],
   "source": [
    "mnb = MultinomialNB(class_prior=None)"
   ]
  },
  {
   "cell_type": "code",
   "execution_count": 51,
   "metadata": {},
   "outputs": [
    {
     "data": {
      "text/plain": [
       "MultinomialNB()"
      ]
     },
     "execution_count": 51,
     "metadata": {},
     "output_type": "execute_result"
    }
   ],
   "source": [
    "mnb.fit(X_train,y_train)"
   ]
  },
  {
   "cell_type": "code",
   "execution_count": 58,
   "metadata": {},
   "outputs": [],
   "source": [
    "y_pred = mnb.predict(X_test)"
   ]
  },
  {
   "cell_type": "code",
   "execution_count": 59,
   "metadata": {},
   "outputs": [],
   "source": [
    "y_pred2 = gnb.predict(X_test)"
   ]
  },
  {
   "cell_type": "code",
   "execution_count": 64,
   "metadata": {},
   "outputs": [
    {
     "name": "stdout",
     "output_type": "stream",
     "text": [
      " The evaluated scores for Multi- NB  is:\n",
      "---------------------------------------------------\n",
      "[[   0   53    0    0]\n",
      " [   0 1846    0    0]\n",
      " [   0  301    0    0]\n",
      " [   0  165    0    0]]\n",
      "              precision    recall  f1-score   support\n",
      "\n",
      "           0       0.00      0.00      0.00        53\n",
      "           1       0.78      1.00      0.88      1846\n",
      "           2       0.00      0.00      0.00       301\n",
      "           3       0.00      0.00      0.00       165\n",
      "\n",
      "    accuracy                           0.78      2365\n",
      "   macro avg       0.20      0.25      0.22      2365\n",
      "weighted avg       0.61      0.78      0.68      2365\n",
      "\n"
     ]
    }
   ],
   "source": [
    "print(\" The evaluated scores for Multi- NB  is:\")\n",
    "print(\"---------------------------------------------------\")\n",
    "print(confusion_matrix(y_test, y_pred))\n",
    "print(classification_report(y_test, y_pred))"
   ]
  },
  {
   "cell_type": "code",
   "execution_count": 63,
   "metadata": {},
   "outputs": [
    {
     "name": "stdout",
     "output_type": "stream",
     "text": [
      " The evaluated scores for NB  is:\n",
      "---------------------------------------------------\n",
      "[[   0   42    7    4]\n",
      " [   3 1708  109   26]\n",
      " [   0  183  116    2]\n",
      " [   0  135   19   11]]\n",
      "              precision    recall  f1-score   support\n",
      "\n",
      "           0       0.00      0.00      0.00        53\n",
      "           1       0.83      0.93      0.87      1846\n",
      "           2       0.46      0.39      0.42       301\n",
      "           3       0.26      0.07      0.11       165\n",
      "\n",
      "    accuracy                           0.78      2365\n",
      "   macro avg       0.39      0.34      0.35      2365\n",
      "weighted avg       0.72      0.78      0.74      2365\n",
      "\n"
     ]
    }
   ],
   "source": [
    "print(\" The evaluated scores for NB  is:\")\n",
    "print(\"---------------------------------------------------\")\n",
    "print(confusion_matrix(y_test, y_pred2))\n",
    "print(classification_report(y_test, y_pred2))"
   ]
  },
  {
   "cell_type": "markdown",
   "metadata": {},
   "source": [
    "# /////////////////////////////////////////////////////--*SVM*--///////////////////////////////////////////////////////////"
   ]
  },
  {
   "cell_type": "code",
   "execution_count": 65,
   "metadata": {},
   "outputs": [],
   "source": [
    "from sklearn import svm"
   ]
  },
  {
   "cell_type": "code",
   "execution_count": 66,
   "metadata": {},
   "outputs": [],
   "source": [
    "clf = svm.SVC(kernel='linear')"
   ]
  },
  {
   "cell_type": "code",
   "execution_count": 67,
   "metadata": {},
   "outputs": [
    {
     "data": {
      "text/plain": [
       "SVC(kernel='linear')"
      ]
     },
     "execution_count": 67,
     "metadata": {},
     "output_type": "execute_result"
    }
   ],
   "source": [
    "clf.fit(X_train, y_train)"
   ]
  },
  {
   "cell_type": "code",
   "execution_count": 68,
   "metadata": {},
   "outputs": [
    {
     "name": "stdout",
     "output_type": "stream",
     "text": [
      "CPU times: user 9min 4s, sys: 76 ms, total: 9min 4s\n",
      "Wall time: 9min 4s\n"
     ]
    }
   ],
   "source": [
    "%%time\n",
    "y_pred = clf.predict(X_test)"
   ]
  },
  {
   "cell_type": "code",
   "execution_count": 69,
   "metadata": {},
   "outputs": [
    {
     "name": "stdout",
     "output_type": "stream",
     "text": [
      " The evaluated scores for SVM Linear kernel is:\n",
      "---------------------------------------------------\n",
      "[[   4   49    0    0]\n",
      " [   0 1846    0    0]\n",
      " [   0   77  224    0]\n",
      " [   0   11    3  151]]\n",
      "              precision    recall  f1-score   support\n",
      "\n",
      "           0       1.00      0.08      0.14        53\n",
      "           1       0.93      1.00      0.96      1846\n",
      "           2       0.99      0.74      0.85       301\n",
      "           3       1.00      0.92      0.96       165\n",
      "\n",
      "    accuracy                           0.94      2365\n",
      "   macro avg       0.98      0.68      0.73      2365\n",
      "weighted avg       0.94      0.94      0.93      2365\n",
      "\n"
     ]
    }
   ],
   "source": [
    "print(\" The evaluated scores for SVM Linear kernel is:\")\n",
    "print(\"---------------------------------------------------\")\n",
    "print(confusion_matrix(y_test, y_pred))\n",
    "print(classification_report(y_test, y_pred))"
   ]
  },
  {
   "cell_type": "code",
   "execution_count": 70,
   "metadata": {},
   "outputs": [],
   "source": [
    "clf2 = svm.SVC(kernel = 'rbf')"
   ]
  },
  {
   "cell_type": "code",
   "execution_count": 71,
   "metadata": {},
   "outputs": [
    {
     "data": {
      "text/plain": [
       "SVC()"
      ]
     },
     "execution_count": 71,
     "metadata": {},
     "output_type": "execute_result"
    }
   ],
   "source": [
    "clf2.fit(X_train, y_train)"
   ]
  },
  {
   "cell_type": "code",
   "execution_count": 74,
   "metadata": {},
   "outputs": [
    {
     "name": "stdout",
     "output_type": "stream",
     "text": [
      "CPU times: user 13min 23s, sys: 8.04 ms, total: 13min 23s\n",
      "Wall time: 13min 23s\n"
     ]
    }
   ],
   "source": [
    "%%time\n",
    "y_pred2= clf2.predict(X_test)"
   ]
  },
  {
   "cell_type": "code",
   "execution_count": 75,
   "metadata": {},
   "outputs": [
    {
     "name": "stdout",
     "output_type": "stream",
     "text": [
      " The evaluated scores for SVM rbf kernel Mode is:\n",
      "---------------------------------------------------\n",
      "[[   0   53    0    0]\n",
      " [   0 1846    0    0]\n",
      " [   0  109  192    0]\n",
      " [   0   93    5   67]]\n",
      "              precision    recall  f1-score   support\n",
      "\n",
      "           0       0.00      0.00      0.00        53\n",
      "           1       0.88      1.00      0.94      1846\n",
      "           2       0.97      0.64      0.77       301\n",
      "           3       1.00      0.41      0.58       165\n",
      "\n",
      "    accuracy                           0.89      2365\n",
      "   macro avg       0.71      0.51      0.57      2365\n",
      "weighted avg       0.88      0.89      0.87      2365\n",
      "\n"
     ]
    },
    {
     "name": "stderr",
     "output_type": "stream",
     "text": [
      "/home/yazdan/.local/lib/python3.7/site-packages/sklearn/metrics/_classification.py:1221: UndefinedMetricWarning: Precision and F-score are ill-defined and being set to 0.0 in labels with no predicted samples. Use `zero_division` parameter to control this behavior.\n",
      "  _warn_prf(average, modifier, msg_start, len(result))\n"
     ]
    }
   ],
   "source": [
    "print(\" The evaluated scores for SVM rbf kernel Mode is:\")\n",
    "print(\"---------------------------------------------------\")\n",
    "print(confusion_matrix(y_test, y_pred2))\n",
    "print(classification_report(y_test, y_pred2))"
   ]
  },
  {
   "cell_type": "code",
   "execution_count": null,
   "metadata": {},
   "outputs": [],
   "source": []
  }
 ],
 "metadata": {
  "kernelspec": {
   "display_name": "Python 3",
   "language": "python",
   "name": "python3"
  },
  "language_info": {
   "codemirror_mode": {
    "name": "ipython",
    "version": 3
   },
   "file_extension": ".py",
   "mimetype": "text/x-python",
   "name": "python",
   "nbconvert_exporter": "python",
   "pygments_lexer": "ipython3",
   "version": "3.7.5"
  }
 },
 "nbformat": 4,
 "nbformat_minor": 2
}
